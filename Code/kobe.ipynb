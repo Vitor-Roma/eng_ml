{
 "cells": [
  {
   "cell_type": "markdown",
   "source": [
    "https://github.com/ricardovroma/eng_ml\n",
    "\n",
    "# Config"
   ],
   "metadata": {
    "collapsed": false,
    "pycharm": {
     "name": "#%% md\n"
    }
   }
  },
  {
   "cell_type": "code",
   "execution_count": 36,
   "outputs": [],
   "source": [
    "import os\n",
    "\n",
    "import joblib\n",
    "import numpy as np\n",
    "import pandas as pd\n",
    "import pycaret\n",
    "import requests\n",
    "from mlflow.models import infer_signature\n",
    "from mlflow.tracking import MlflowClient\n",
    "from pycaret import classification\n",
    "from pycaret.classification import add_metric\n",
    "from sklearn import model_selection, metrics\n",
    "from sklearn.metrics import log_loss\n",
    "\n",
    "os.environ['MLFLOW_TRACKING_URI'] = 'sqlite:///mlruns.db'  # Criando uma variável de ambiente\n",
    "import mlflow"
   ],
   "metadata": {
    "collapsed": false,
    "pycharm": {
     "name": "#%%\n"
    }
   }
  },
  {
   "cell_type": "code",
   "execution_count": 25,
   "outputs": [],
   "source": [
    "SEED = 10\n",
    "\n",
    "np.random.seed(SEED)\n",
    "\n",
    "classification_model_name = 'kobe-classification'\n",
    "regression_model_name = 'kobe-regression'\n",
    "min_precision = 0.5\n",
    "model_version = -1\n",
    "samples_qt = 5"
   ],
   "metadata": {
    "collapsed": false,
    "pycharm": {
     "name": "#%%\n"
    }
   }
  },
  {
   "cell_type": "markdown",
   "source": [
    "# Definindo Features e colunas"
   ],
   "metadata": {
    "collapsed": false,
    "pycharm": {
     "name": "#%% md\n"
    }
   }
  },
  {
   "cell_type": "code",
   "source": [
    "experiment_name = 'Kobe Classifier'\n",
    "experiment = mlflow.get_experiment_by_name(experiment_name)\n",
    "if experiment is None:\n",
    "    experiment_id = mlflow.create_experiment(experiment_name)\n",
    "    experiment = mlflow.get_experiment(experiment_id)\n",
    "experiment_id = experiment.experiment_id\n",
    "\n",
    "percentual_test = 0.2\n",
    "target_col = 'shot_made_flag'\n",
    "selected_features = {\n",
    "    'lat': float,\n",
    "    'lon': float,\n",
    "    'minutes_remaining': int,\n",
    "    'period': int,\n",
    "    'playoffs': int,\n",
    "    'shot_distance': int,\n",
    "    'shot_made_flag': str,\n",
    "    'shot_type': str,\n",
    "}"
   ],
   "metadata": {
    "collapsed": false,
    "pycharm": {
     "name": "#%%\n"
    }
   },
   "execution_count": 26,
   "outputs": []
  },
  {
   "cell_type": "markdown",
   "source": [
    "## Carregando a base, limpando os nulos do campo shot_made_flag, filtrando shot_type por 2PT Field Goal"
   ],
   "metadata": {
    "collapsed": false,
    "pycharm": {
     "name": "#%% md\n"
    }
   }
  },
  {
   "cell_type": "code",
   "execution_count": 27,
   "outputs": [
    {
     "name": "stdout",
     "output_type": "stream",
     "text": [
      "==================== Data ======================================\n",
      "Filtered data: (20285, 7)\n",
      "Train data: (16228, 7)\n",
      "test data: (4057, 7)\n",
      "3pts data: (5412, 7)\n",
      "Columns: Index(['lat', 'lon', 'minutes_remaining', 'period', 'playoffs',\n",
      "       'shot_distance', 'shot_made_flag'],\n",
      "      dtype='object')\n"
     ]
    }
   ],
   "source": [
    "with mlflow.start_run(experiment_id=experiment_id, run_name='PreparacaoDados', description=\"PreparacaoDados\"):\n",
    "    df_naive = pd.read_csv('../Data/dataset_kobe.csv', sep=',',\n",
    "                     usecols=list(selected_features.keys()),\n",
    "                     converters = selected_features,\n",
    "                     na_filter=True,\n",
    "                     )\n",
    "    df = df_naive.loc[ (df_naive['shot_made_flag'] != \"\") & (df_naive['shot_type'] == '2PT Field Goal') ].drop('shot_type', axis=1)\n",
    "    df_3pts = df_naive.loc[ (df_naive['shot_made_flag'] != \"\") & (df_naive['shot_type'] == '3PT Field Goal') ].drop('shot_type', axis=1)\n",
    "    del selected_features['shot_type']\n",
    "    df['shot_made_flag'] = df['shot_made_flag'].astype(int)\n",
    "\n",
    "\n",
    "    df_train, df_test, y_train, y_test = model_selection.train_test_split(\n",
    "        df,\n",
    "        df[target_col],\n",
    "        test_size=percentual_test,\n",
    "        random_state=None,\n",
    "        shuffle=True,\n",
    "        stratify=None)\n",
    "\n",
    "    df_train[target_col] = y_train\n",
    "    df_test[target_col] = y_test\n",
    "\n",
    "    df.to_parquet('../Data/processed/data_filtered.parquet')\n",
    "    df_train.to_parquet('../Data/operalization/base_train.parquet')\n",
    "    df_test.to_parquet('../Data/operalization/base_test.parquet')\n",
    "    df_3pts.to_parquet('../Data/operalization/base_3pts.parquet')\n",
    "\n",
    "    mlflow.log_param(\"selected_features\", selected_features)\n",
    "\n",
    "    mlflow.log_metric(\"Filtered data\", df.shape[0])\n",
    "    mlflow.log_metric(\"Train data\", df_train.shape[0])\n",
    "    mlflow.log_metric(\"Test data\", df_test.shape[0])\n",
    "    mlflow.log_metric(\"3pts data\", df_3pts.shape[0])\n",
    "\n",
    "    mlflow.log_artifact('../Data/processed/data_filtered.parquet')\n",
    "    mlflow.log_artifact('../Data/operalization/base_train.parquet')\n",
    "    mlflow.log_artifact('../Data/operalization/base_test.parquet')\n",
    "    mlflow.log_artifact('../Data/operalization/base_3pts.parquet')\n",
    "\n",
    "mlflow.end_run()\n",
    "\n",
    "print('==================== Data ======================================')\n",
    "print(f'Filtered data: {df.shape}')\n",
    "print(f'Train data: {df_train.shape}')\n",
    "print(f'test data: {df_test.shape}')\n",
    "print(f'3pts data: {df_3pts.shape}')\n",
    "print(f'Columns: {df_train.columns}')"
   ],
   "metadata": {
    "collapsed": false,
    "pycharm": {
     "name": "#%%\n"
    }
   }
  },
  {
   "cell_type": "code",
   "execution_count": 28,
   "outputs": [],
   "source": [
    "# mlflow ui --backend-store-uri sqlite:///mlruns.db -p 5002"
   ],
   "metadata": {
    "collapsed": false,
    "pycharm": {
     "name": "#%%\n"
    }
   }
  },
  {
   "cell_type": "markdown",
   "source": [
    "# Treinamento do modelo"
   ],
   "metadata": {
    "collapsed": false
   }
  },
  {
   "cell_type": "code",
   "execution_count": 29,
   "outputs": [
    {
     "data": {
      "text/plain": "['lat', 'lon', 'minutes_remaining', 'period', 'playoffs', 'shot_distance']"
     },
     "execution_count": 29,
     "metadata": {},
     "output_type": "execute_result"
    }
   ],
   "source": [
    "numeric_features = [list(selected_features)[k] for k, x in enumerate(selected_features.values()) if x in [float, int] ]\n",
    "numeric_features"
   ],
   "metadata": {
    "collapsed": false,
    "pycharm": {
     "name": "#%%\n"
    }
   }
  },
  {
   "cell_type": "code",
   "execution_count": 45,
   "outputs": [
    {
     "data": {
      "text/plain": "<pandas.io.formats.style.Styler at 0x7fb6f1f29610>",
      "text/html": "<style type=\"text/css\">\n#T_0f362_row19_col1, #T_0f362_row29_col1, #T_0f362_row44_col1 {\n  background-color: lightgreen;\n}\n</style>\n<table id=\"T_0f362\">\n  <thead>\n    <tr>\n      <th class=\"blank level0\" >&nbsp;</th>\n      <th id=\"T_0f362_level0_col0\" class=\"col_heading level0 col0\" >Description</th>\n      <th id=\"T_0f362_level0_col1\" class=\"col_heading level0 col1\" >Value</th>\n    </tr>\n  </thead>\n  <tbody>\n    <tr>\n      <th id=\"T_0f362_level0_row0\" class=\"row_heading level0 row0\" >0</th>\n      <td id=\"T_0f362_row0_col0\" class=\"data row0 col0\" >session_id</td>\n      <td id=\"T_0f362_row0_col1\" class=\"data row0 col1\" >578</td>\n    </tr>\n    <tr>\n      <th id=\"T_0f362_level0_row1\" class=\"row_heading level0 row1\" >1</th>\n      <td id=\"T_0f362_row1_col0\" class=\"data row1 col0\" >Target</td>\n      <td id=\"T_0f362_row1_col1\" class=\"data row1 col1\" >shot_made_flag</td>\n    </tr>\n    <tr>\n      <th id=\"T_0f362_level0_row2\" class=\"row_heading level0 row2\" >2</th>\n      <td id=\"T_0f362_row2_col0\" class=\"data row2 col0\" >Target Type</td>\n      <td id=\"T_0f362_row2_col1\" class=\"data row2 col1\" >Binary</td>\n    </tr>\n    <tr>\n      <th id=\"T_0f362_level0_row3\" class=\"row_heading level0 row3\" >3</th>\n      <td id=\"T_0f362_row3_col0\" class=\"data row3 col0\" >Label Encoded</td>\n      <td id=\"T_0f362_row3_col1\" class=\"data row3 col1\" >None</td>\n    </tr>\n    <tr>\n      <th id=\"T_0f362_level0_row4\" class=\"row_heading level0 row4\" >4</th>\n      <td id=\"T_0f362_row4_col0\" class=\"data row4 col0\" >Original Data</td>\n      <td id=\"T_0f362_row4_col1\" class=\"data row4 col1\" >(5412, 7)</td>\n    </tr>\n    <tr>\n      <th id=\"T_0f362_level0_row5\" class=\"row_heading level0 row5\" >5</th>\n      <td id=\"T_0f362_row5_col0\" class=\"data row5 col0\" >Missing Values</td>\n      <td id=\"T_0f362_row5_col1\" class=\"data row5 col1\" >False</td>\n    </tr>\n    <tr>\n      <th id=\"T_0f362_level0_row6\" class=\"row_heading level0 row6\" >6</th>\n      <td id=\"T_0f362_row6_col0\" class=\"data row6 col0\" >Numeric Features</td>\n      <td id=\"T_0f362_row6_col1\" class=\"data row6 col1\" >3</td>\n    </tr>\n    <tr>\n      <th id=\"T_0f362_level0_row7\" class=\"row_heading level0 row7\" >7</th>\n      <td id=\"T_0f362_row7_col0\" class=\"data row7 col0\" >Categorical Features</td>\n      <td id=\"T_0f362_row7_col1\" class=\"data row7 col1\" >3</td>\n    </tr>\n    <tr>\n      <th id=\"T_0f362_level0_row8\" class=\"row_heading level0 row8\" >8</th>\n      <td id=\"T_0f362_row8_col0\" class=\"data row8 col0\" >Ordinal Features</td>\n      <td id=\"T_0f362_row8_col1\" class=\"data row8 col1\" >False</td>\n    </tr>\n    <tr>\n      <th id=\"T_0f362_level0_row9\" class=\"row_heading level0 row9\" >9</th>\n      <td id=\"T_0f362_row9_col0\" class=\"data row9 col0\" >High Cardinality Features</td>\n      <td id=\"T_0f362_row9_col1\" class=\"data row9 col1\" >False</td>\n    </tr>\n    <tr>\n      <th id=\"T_0f362_level0_row10\" class=\"row_heading level0 row10\" >10</th>\n      <td id=\"T_0f362_row10_col0\" class=\"data row10 col0\" >High Cardinality Method</td>\n      <td id=\"T_0f362_row10_col1\" class=\"data row10 col1\" >None</td>\n    </tr>\n    <tr>\n      <th id=\"T_0f362_level0_row11\" class=\"row_heading level0 row11\" >11</th>\n      <td id=\"T_0f362_row11_col0\" class=\"data row11 col0\" >Transformed Train Set</td>\n      <td id=\"T_0f362_row11_col1\" class=\"data row11 col1\" >(3788, 23)</td>\n    </tr>\n    <tr>\n      <th id=\"T_0f362_level0_row12\" class=\"row_heading level0 row12\" >12</th>\n      <td id=\"T_0f362_row12_col0\" class=\"data row12 col0\" >Transformed Test Set</td>\n      <td id=\"T_0f362_row12_col1\" class=\"data row12 col1\" >(1624, 23)</td>\n    </tr>\n    <tr>\n      <th id=\"T_0f362_level0_row13\" class=\"row_heading level0 row13\" >13</th>\n      <td id=\"T_0f362_row13_col0\" class=\"data row13 col0\" >Shuffle Train-Test</td>\n      <td id=\"T_0f362_row13_col1\" class=\"data row13 col1\" >True</td>\n    </tr>\n    <tr>\n      <th id=\"T_0f362_level0_row14\" class=\"row_heading level0 row14\" >14</th>\n      <td id=\"T_0f362_row14_col0\" class=\"data row14 col0\" >Stratify Train-Test</td>\n      <td id=\"T_0f362_row14_col1\" class=\"data row14 col1\" >False</td>\n    </tr>\n    <tr>\n      <th id=\"T_0f362_level0_row15\" class=\"row_heading level0 row15\" >15</th>\n      <td id=\"T_0f362_row15_col0\" class=\"data row15 col0\" >Fold Generator</td>\n      <td id=\"T_0f362_row15_col1\" class=\"data row15 col1\" >StratifiedKFold</td>\n    </tr>\n    <tr>\n      <th id=\"T_0f362_level0_row16\" class=\"row_heading level0 row16\" >16</th>\n      <td id=\"T_0f362_row16_col0\" class=\"data row16 col0\" >Fold Number</td>\n      <td id=\"T_0f362_row16_col1\" class=\"data row16 col1\" >10</td>\n    </tr>\n    <tr>\n      <th id=\"T_0f362_level0_row17\" class=\"row_heading level0 row17\" >17</th>\n      <td id=\"T_0f362_row17_col0\" class=\"data row17 col0\" >CPU Jobs</td>\n      <td id=\"T_0f362_row17_col1\" class=\"data row17 col1\" >-1</td>\n    </tr>\n    <tr>\n      <th id=\"T_0f362_level0_row18\" class=\"row_heading level0 row18\" >18</th>\n      <td id=\"T_0f362_row18_col0\" class=\"data row18 col0\" >Use GPU</td>\n      <td id=\"T_0f362_row18_col1\" class=\"data row18 col1\" >False</td>\n    </tr>\n    <tr>\n      <th id=\"T_0f362_level0_row19\" class=\"row_heading level0 row19\" >19</th>\n      <td id=\"T_0f362_row19_col0\" class=\"data row19 col0\" >Log Experiment</td>\n      <td id=\"T_0f362_row19_col1\" class=\"data row19 col1\" >True</td>\n    </tr>\n    <tr>\n      <th id=\"T_0f362_level0_row20\" class=\"row_heading level0 row20\" >20</th>\n      <td id=\"T_0f362_row20_col0\" class=\"data row20 col0\" >Experiment Name</td>\n      <td id=\"T_0f362_row20_col1\" class=\"data row20 col1\" >Kobe Classifier</td>\n    </tr>\n    <tr>\n      <th id=\"T_0f362_level0_row21\" class=\"row_heading level0 row21\" >21</th>\n      <td id=\"T_0f362_row21_col0\" class=\"data row21 col0\" >USI</td>\n      <td id=\"T_0f362_row21_col1\" class=\"data row21 col1\" >1beb</td>\n    </tr>\n    <tr>\n      <th id=\"T_0f362_level0_row22\" class=\"row_heading level0 row22\" >22</th>\n      <td id=\"T_0f362_row22_col0\" class=\"data row22 col0\" >Imputation Type</td>\n      <td id=\"T_0f362_row22_col1\" class=\"data row22 col1\" >simple</td>\n    </tr>\n    <tr>\n      <th id=\"T_0f362_level0_row23\" class=\"row_heading level0 row23\" >23</th>\n      <td id=\"T_0f362_row23_col0\" class=\"data row23 col0\" >Iterative Imputation Iteration</td>\n      <td id=\"T_0f362_row23_col1\" class=\"data row23 col1\" >None</td>\n    </tr>\n    <tr>\n      <th id=\"T_0f362_level0_row24\" class=\"row_heading level0 row24\" >24</th>\n      <td id=\"T_0f362_row24_col0\" class=\"data row24 col0\" >Numeric Imputer</td>\n      <td id=\"T_0f362_row24_col1\" class=\"data row24 col1\" >mean</td>\n    </tr>\n    <tr>\n      <th id=\"T_0f362_level0_row25\" class=\"row_heading level0 row25\" >25</th>\n      <td id=\"T_0f362_row25_col0\" class=\"data row25 col0\" >Iterative Imputation Numeric Model</td>\n      <td id=\"T_0f362_row25_col1\" class=\"data row25 col1\" >None</td>\n    </tr>\n    <tr>\n      <th id=\"T_0f362_level0_row26\" class=\"row_heading level0 row26\" >26</th>\n      <td id=\"T_0f362_row26_col0\" class=\"data row26 col0\" >Categorical Imputer</td>\n      <td id=\"T_0f362_row26_col1\" class=\"data row26 col1\" >constant</td>\n    </tr>\n    <tr>\n      <th id=\"T_0f362_level0_row27\" class=\"row_heading level0 row27\" >27</th>\n      <td id=\"T_0f362_row27_col0\" class=\"data row27 col0\" >Iterative Imputation Categorical Model</td>\n      <td id=\"T_0f362_row27_col1\" class=\"data row27 col1\" >None</td>\n    </tr>\n    <tr>\n      <th id=\"T_0f362_level0_row28\" class=\"row_heading level0 row28\" >28</th>\n      <td id=\"T_0f362_row28_col0\" class=\"data row28 col0\" >Unknown Categoricals Handling</td>\n      <td id=\"T_0f362_row28_col1\" class=\"data row28 col1\" >least_frequent</td>\n    </tr>\n    <tr>\n      <th id=\"T_0f362_level0_row29\" class=\"row_heading level0 row29\" >29</th>\n      <td id=\"T_0f362_row29_col0\" class=\"data row29 col0\" >Normalize</td>\n      <td id=\"T_0f362_row29_col1\" class=\"data row29 col1\" >True</td>\n    </tr>\n    <tr>\n      <th id=\"T_0f362_level0_row30\" class=\"row_heading level0 row30\" >30</th>\n      <td id=\"T_0f362_row30_col0\" class=\"data row30 col0\" >Normalize Method</td>\n      <td id=\"T_0f362_row30_col1\" class=\"data row30 col1\" >zscore</td>\n    </tr>\n    <tr>\n      <th id=\"T_0f362_level0_row31\" class=\"row_heading level0 row31\" >31</th>\n      <td id=\"T_0f362_row31_col0\" class=\"data row31 col0\" >Transformation</td>\n      <td id=\"T_0f362_row31_col1\" class=\"data row31 col1\" >False</td>\n    </tr>\n    <tr>\n      <th id=\"T_0f362_level0_row32\" class=\"row_heading level0 row32\" >32</th>\n      <td id=\"T_0f362_row32_col0\" class=\"data row32 col0\" >Transformation Method</td>\n      <td id=\"T_0f362_row32_col1\" class=\"data row32 col1\" >None</td>\n    </tr>\n    <tr>\n      <th id=\"T_0f362_level0_row33\" class=\"row_heading level0 row33\" >33</th>\n      <td id=\"T_0f362_row33_col0\" class=\"data row33 col0\" >PCA</td>\n      <td id=\"T_0f362_row33_col1\" class=\"data row33 col1\" >False</td>\n    </tr>\n    <tr>\n      <th id=\"T_0f362_level0_row34\" class=\"row_heading level0 row34\" >34</th>\n      <td id=\"T_0f362_row34_col0\" class=\"data row34 col0\" >PCA Method</td>\n      <td id=\"T_0f362_row34_col1\" class=\"data row34 col1\" >None</td>\n    </tr>\n    <tr>\n      <th id=\"T_0f362_level0_row35\" class=\"row_heading level0 row35\" >35</th>\n      <td id=\"T_0f362_row35_col0\" class=\"data row35 col0\" >PCA Components</td>\n      <td id=\"T_0f362_row35_col1\" class=\"data row35 col1\" >None</td>\n    </tr>\n    <tr>\n      <th id=\"T_0f362_level0_row36\" class=\"row_heading level0 row36\" >36</th>\n      <td id=\"T_0f362_row36_col0\" class=\"data row36 col0\" >Ignore Low Variance</td>\n      <td id=\"T_0f362_row36_col1\" class=\"data row36 col1\" >False</td>\n    </tr>\n    <tr>\n      <th id=\"T_0f362_level0_row37\" class=\"row_heading level0 row37\" >37</th>\n      <td id=\"T_0f362_row37_col0\" class=\"data row37 col0\" >Combine Rare Levels</td>\n      <td id=\"T_0f362_row37_col1\" class=\"data row37 col1\" >False</td>\n    </tr>\n    <tr>\n      <th id=\"T_0f362_level0_row38\" class=\"row_heading level0 row38\" >38</th>\n      <td id=\"T_0f362_row38_col0\" class=\"data row38 col0\" >Rare Level Threshold</td>\n      <td id=\"T_0f362_row38_col1\" class=\"data row38 col1\" >None</td>\n    </tr>\n    <tr>\n      <th id=\"T_0f362_level0_row39\" class=\"row_heading level0 row39\" >39</th>\n      <td id=\"T_0f362_row39_col0\" class=\"data row39 col0\" >Numeric Binning</td>\n      <td id=\"T_0f362_row39_col1\" class=\"data row39 col1\" >False</td>\n    </tr>\n    <tr>\n      <th id=\"T_0f362_level0_row40\" class=\"row_heading level0 row40\" >40</th>\n      <td id=\"T_0f362_row40_col0\" class=\"data row40 col0\" >Remove Outliers</td>\n      <td id=\"T_0f362_row40_col1\" class=\"data row40 col1\" >False</td>\n    </tr>\n    <tr>\n      <th id=\"T_0f362_level0_row41\" class=\"row_heading level0 row41\" >41</th>\n      <td id=\"T_0f362_row41_col0\" class=\"data row41 col0\" >Outliers Threshold</td>\n      <td id=\"T_0f362_row41_col1\" class=\"data row41 col1\" >None</td>\n    </tr>\n    <tr>\n      <th id=\"T_0f362_level0_row42\" class=\"row_heading level0 row42\" >42</th>\n      <td id=\"T_0f362_row42_col0\" class=\"data row42 col0\" >Remove Multicollinearity</td>\n      <td id=\"T_0f362_row42_col1\" class=\"data row42 col1\" >False</td>\n    </tr>\n    <tr>\n      <th id=\"T_0f362_level0_row43\" class=\"row_heading level0 row43\" >43</th>\n      <td id=\"T_0f362_row43_col0\" class=\"data row43 col0\" >Multicollinearity Threshold</td>\n      <td id=\"T_0f362_row43_col1\" class=\"data row43 col1\" >None</td>\n    </tr>\n    <tr>\n      <th id=\"T_0f362_level0_row44\" class=\"row_heading level0 row44\" >44</th>\n      <td id=\"T_0f362_row44_col0\" class=\"data row44 col0\" >Remove Perfect Collinearity</td>\n      <td id=\"T_0f362_row44_col1\" class=\"data row44 col1\" >True</td>\n    </tr>\n    <tr>\n      <th id=\"T_0f362_level0_row45\" class=\"row_heading level0 row45\" >45</th>\n      <td id=\"T_0f362_row45_col0\" class=\"data row45 col0\" >Clustering</td>\n      <td id=\"T_0f362_row45_col1\" class=\"data row45 col1\" >False</td>\n    </tr>\n    <tr>\n      <th id=\"T_0f362_level0_row46\" class=\"row_heading level0 row46\" >46</th>\n      <td id=\"T_0f362_row46_col0\" class=\"data row46 col0\" >Clustering Iteration</td>\n      <td id=\"T_0f362_row46_col1\" class=\"data row46 col1\" >None</td>\n    </tr>\n    <tr>\n      <th id=\"T_0f362_level0_row47\" class=\"row_heading level0 row47\" >47</th>\n      <td id=\"T_0f362_row47_col0\" class=\"data row47 col0\" >Polynomial Features</td>\n      <td id=\"T_0f362_row47_col1\" class=\"data row47 col1\" >False</td>\n    </tr>\n    <tr>\n      <th id=\"T_0f362_level0_row48\" class=\"row_heading level0 row48\" >48</th>\n      <td id=\"T_0f362_row48_col0\" class=\"data row48 col0\" >Polynomial Degree</td>\n      <td id=\"T_0f362_row48_col1\" class=\"data row48 col1\" >None</td>\n    </tr>\n    <tr>\n      <th id=\"T_0f362_level0_row49\" class=\"row_heading level0 row49\" >49</th>\n      <td id=\"T_0f362_row49_col0\" class=\"data row49 col0\" >Trignometry Features</td>\n      <td id=\"T_0f362_row49_col1\" class=\"data row49 col1\" >False</td>\n    </tr>\n    <tr>\n      <th id=\"T_0f362_level0_row50\" class=\"row_heading level0 row50\" >50</th>\n      <td id=\"T_0f362_row50_col0\" class=\"data row50 col0\" >Polynomial Threshold</td>\n      <td id=\"T_0f362_row50_col1\" class=\"data row50 col1\" >None</td>\n    </tr>\n    <tr>\n      <th id=\"T_0f362_level0_row51\" class=\"row_heading level0 row51\" >51</th>\n      <td id=\"T_0f362_row51_col0\" class=\"data row51 col0\" >Group Features</td>\n      <td id=\"T_0f362_row51_col1\" class=\"data row51 col1\" >False</td>\n    </tr>\n    <tr>\n      <th id=\"T_0f362_level0_row52\" class=\"row_heading level0 row52\" >52</th>\n      <td id=\"T_0f362_row52_col0\" class=\"data row52 col0\" >Feature Selection</td>\n      <td id=\"T_0f362_row52_col1\" class=\"data row52 col1\" >False</td>\n    </tr>\n    <tr>\n      <th id=\"T_0f362_level0_row53\" class=\"row_heading level0 row53\" >53</th>\n      <td id=\"T_0f362_row53_col0\" class=\"data row53 col0\" >Feature Selection Method</td>\n      <td id=\"T_0f362_row53_col1\" class=\"data row53 col1\" >classic</td>\n    </tr>\n    <tr>\n      <th id=\"T_0f362_level0_row54\" class=\"row_heading level0 row54\" >54</th>\n      <td id=\"T_0f362_row54_col0\" class=\"data row54 col0\" >Features Selection Threshold</td>\n      <td id=\"T_0f362_row54_col1\" class=\"data row54 col1\" >None</td>\n    </tr>\n    <tr>\n      <th id=\"T_0f362_level0_row55\" class=\"row_heading level0 row55\" >55</th>\n      <td id=\"T_0f362_row55_col0\" class=\"data row55 col0\" >Feature Interaction</td>\n      <td id=\"T_0f362_row55_col1\" class=\"data row55 col1\" >False</td>\n    </tr>\n    <tr>\n      <th id=\"T_0f362_level0_row56\" class=\"row_heading level0 row56\" >56</th>\n      <td id=\"T_0f362_row56_col0\" class=\"data row56 col0\" >Feature Ratio</td>\n      <td id=\"T_0f362_row56_col1\" class=\"data row56 col1\" >False</td>\n    </tr>\n    <tr>\n      <th id=\"T_0f362_level0_row57\" class=\"row_heading level0 row57\" >57</th>\n      <td id=\"T_0f362_row57_col0\" class=\"data row57 col0\" >Interaction Threshold</td>\n      <td id=\"T_0f362_row57_col1\" class=\"data row57 col1\" >None</td>\n    </tr>\n    <tr>\n      <th id=\"T_0f362_level0_row58\" class=\"row_heading level0 row58\" >58</th>\n      <td id=\"T_0f362_row58_col0\" class=\"data row58 col0\" >Fix Imbalance</td>\n      <td id=\"T_0f362_row58_col1\" class=\"data row58 col1\" >False</td>\n    </tr>\n    <tr>\n      <th id=\"T_0f362_level0_row59\" class=\"row_heading level0 row59\" >59</th>\n      <td id=\"T_0f362_row59_col0\" class=\"data row59 col0\" >Fix Imbalance Method</td>\n      <td id=\"T_0f362_row59_col1\" class=\"data row59 col1\" >SMOTE</td>\n    </tr>\n  </tbody>\n</table>\n"
     },
     "metadata": {},
     "output_type": "display_data"
    },
    {
     "data": {
      "text/plain": "<pandas.io.formats.style.Styler at 0x7fb7c4a2bd30>",
      "text/html": "<style type=\"text/css\">\n</style>\n<table id=\"T_8f9d6\">\n  <thead>\n    <tr>\n      <th class=\"blank level0\" >&nbsp;</th>\n      <th id=\"T_8f9d6_level0_col0\" class=\"col_heading level0 col0\" >Model</th>\n      <th id=\"T_8f9d6_level0_col1\" class=\"col_heading level0 col1\" >Accuracy</th>\n      <th id=\"T_8f9d6_level0_col2\" class=\"col_heading level0 col2\" >AUC</th>\n      <th id=\"T_8f9d6_level0_col3\" class=\"col_heading level0 col3\" >Recall</th>\n      <th id=\"T_8f9d6_level0_col4\" class=\"col_heading level0 col4\" >Prec.</th>\n      <th id=\"T_8f9d6_level0_col5\" class=\"col_heading level0 col5\" >F1</th>\n      <th id=\"T_8f9d6_level0_col6\" class=\"col_heading level0 col6\" >Kappa</th>\n      <th id=\"T_8f9d6_level0_col7\" class=\"col_heading level0 col7\" >MCC</th>\n    </tr>\n  </thead>\n  <tbody>\n    <tr>\n      <th id=\"T_8f9d6_level0_row0\" class=\"row_heading level0 row0\" >0</th>\n      <td id=\"T_8f9d6_row0_col0\" class=\"data row0 col0\" >Ada Boost Classifier</td>\n      <td id=\"T_8f9d6_row0_col1\" class=\"data row0 col1\" >0.6546</td>\n      <td id=\"T_8f9d6_row0_col2\" class=\"data row0 col2\" >0.5240</td>\n      <td id=\"T_8f9d6_row0_col3\" class=\"data row0 col3\" >0.0658</td>\n      <td id=\"T_8f9d6_row0_col4\" class=\"data row0 col4\" >0.3036</td>\n      <td id=\"T_8f9d6_row0_col5\" class=\"data row0 col5\" >0.1081</td>\n      <td id=\"T_8f9d6_row0_col6\" class=\"data row0 col6\" >-0.0059</td>\n      <td id=\"T_8f9d6_row0_col7\" class=\"data row0 col7\" >-0.0086</td>\n    </tr>\n  </tbody>\n</table>\n"
     },
     "metadata": {},
     "output_type": "display_data"
    }
   ],
   "source": [
    "min_precision=0.5\n",
    "with mlflow.start_run(experiment_id=experiment_id, run_name='Treinamento', description='Treinamento'):\n",
    "    pycaret.classification.setup(data=df_train,\n",
    "                 test_data=df_test,\n",
    "                 target=target_col,\n",
    "                 silent=True,\n",
    "                 log_experiment=True,\n",
    "                 experiment_name=experiment_name,\n",
    "                 log_plots=True,\n",
    "                 normalize=True,\n",
    "                 )\n",
    "\n",
    "    add_metric('logloss', 'Log Loss', log_loss, greater_is_better = False)\n",
    "\n",
    "    bestmodel = pycaret.classification.compare_models(n_select = 1)\n",
    "    # pycaret.classification.evaluate_model(bestmodel)\n",
    "    # pycaret.classification.interpret_model(bestmodel, plot='correlation', feature=target_col)\n",
    "\n",
    "\n",
    "    classification_plots = ['auc', 'pr', 'confusion_matrix',\n",
    "                            'threshold', 'learning', 'vc', 'feature', 'class_report']\n",
    "    for plot_type in classification_plots:\n",
    "        print('=> Aplicando plot ', plot_type)\n",
    "        try:\n",
    "            pass\n",
    "            # artifact = pycaret.classification.plot_model(bestmodel, plot=plot_type, save=True, use_train_data=False)\n",
    "            # mlflow.log_artifact(artifact)\n",
    "        except:\n",
    "            print('=> Nao possivel plotar: ', plot_type)\n",
    "            continue\n",
    "\n",
    "    pred_holdout = pycaret.classification.predict_model(bestmodel)\n",
    "    pr = metrics.precision_score(pred_holdout[target_col], pred_holdout['Label'],)\n",
    "\n",
    "    if pr > min_precision:\n",
    "\n",
    "        pycaret.classification.save_model(bestmodel, f'./{classification_model_name}')\n",
    "        model_pipe = pycaret.classification.load_model(f'./{classification_model_name}')\n",
    "\n",
    "        model_features = list(df.drop(target_col, axis=1).columns)\n",
    "        inf_signature = infer_signature(df[model_features], model_pipe.predict(df))\n",
    "        input_example = {x: df[x].values[:samples_qt] for x in model_features}\n",
    "\n",
    "        mlflow.sklearn.log_model(\n",
    "                sk_model=model_pipe,\n",
    "                artifact_path=\"sklearn-model\",\n",
    "                registered_model_name=classification_model_name,\n",
    "                signature=inf_signature,\n",
    "                input_example=input_example\n",
    "            )\n",
    "\n",
    "        client = MlflowClient()\n",
    "        if model_version == -1:\n",
    "            model_version = client.get_latest_versions(classification_model_name)[-1].version\n",
    "\n",
    "        # Registrar o modelo como staging\n",
    "        client.transition_model_version_stage(\n",
    "            name=classification_model_name,\n",
    "            version=model_version,\n",
    "            stage=\"Staging\"\n",
    "        )\n",
    "\n",
    "        pr = metrics.precision_score(pred_holdout[target_col], pred_holdout['Label'], )\n",
    "        accuracy_score = metrics.accuracy_score(pred_holdout[target_col], pred_holdout['Label'], )\n",
    "        logloss = metrics.log_loss(pred_holdout[target_col], pred_holdout['Label'])\n",
    "        f1_score = metrics.f1_score(pred_holdout[target_col], pred_holdout['Label'])\n",
    "\n",
    "\n",
    "        mlflow.log_metric(\"new_version\", model_version)\n",
    "        mlflow.log_metric(\"precisao\", pr)\n",
    "        mlflow.log_metric(\"logloss\", logloss)\n",
    "        mlflow.log_metric(\"f1_score\", f1_score)\n",
    "        mlflow.log_metric(\"accuracy_score\", accuracy_score)\n",
    "\n",
    "        ############### WIP ####################\n",
    "        # results = {\n",
    "        #     'model': bestmodel,\n",
    "        #     'data': df,\n",
    "        #     'features': list(selected_features),\n",
    "        #     'target_col': target_col,\n",
    "        #     'threshold': 0.5\n",
    "        # }\n",
    "        # joblib.dump(results, '../Data/model_kobe.pkl', compress=9)\n",
    "        ###################################\n",
    "\n",
    "        print(pycaret.classification.pull())\n",
    "    else:\n",
    "        print(f'=> Modelo rejeitado precisão: {pr} (min: {min_precision})')\n",
    "mlflow.end_run()"
   ],
   "metadata": {
    "collapsed": false,
    "pycharm": {
     "name": "#%%\n"
    }
   }
  },
  {
   "cell_type": "code",
   "execution_count": 46,
   "outputs": [
    {
     "data": {
      "text/plain": "<pandas.io.formats.style.Styler at 0x7fb6f1fedeb0>",
      "text/html": "<style type=\"text/css\">\n#T_8c969_row19_col1, #T_8c969_row29_col1, #T_8c969_row44_col1 {\n  background-color: lightgreen;\n}\n</style>\n<table id=\"T_8c969\">\n  <thead>\n    <tr>\n      <th class=\"blank level0\" >&nbsp;</th>\n      <th id=\"T_8c969_level0_col0\" class=\"col_heading level0 col0\" >Description</th>\n      <th id=\"T_8c969_level0_col1\" class=\"col_heading level0 col1\" >Value</th>\n    </tr>\n  </thead>\n  <tbody>\n    <tr>\n      <th id=\"T_8c969_level0_row0\" class=\"row_heading level0 row0\" >0</th>\n      <td id=\"T_8c969_row0_col0\" class=\"data row0 col0\" >session_id</td>\n      <td id=\"T_8c969_row0_col1\" class=\"data row0 col1\" >3700</td>\n    </tr>\n    <tr>\n      <th id=\"T_8c969_level0_row1\" class=\"row_heading level0 row1\" >1</th>\n      <td id=\"T_8c969_row1_col0\" class=\"data row1 col0\" >Target</td>\n      <td id=\"T_8c969_row1_col1\" class=\"data row1 col1\" >shot_made_flag</td>\n    </tr>\n    <tr>\n      <th id=\"T_8c969_level0_row2\" class=\"row_heading level0 row2\" >2</th>\n      <td id=\"T_8c969_row2_col0\" class=\"data row2 col0\" >Target Type</td>\n      <td id=\"T_8c969_row2_col1\" class=\"data row2 col1\" >Binary</td>\n    </tr>\n    <tr>\n      <th id=\"T_8c969_level0_row3\" class=\"row_heading level0 row3\" >3</th>\n      <td id=\"T_8c969_row3_col0\" class=\"data row3 col0\" >Label Encoded</td>\n      <td id=\"T_8c969_row3_col1\" class=\"data row3 col1\" >None</td>\n    </tr>\n    <tr>\n      <th id=\"T_8c969_level0_row4\" class=\"row_heading level0 row4\" >4</th>\n      <td id=\"T_8c969_row4_col0\" class=\"data row4 col0\" >Original Data</td>\n      <td id=\"T_8c969_row4_col1\" class=\"data row4 col1\" >(5412, 7)</td>\n    </tr>\n    <tr>\n      <th id=\"T_8c969_level0_row5\" class=\"row_heading level0 row5\" >5</th>\n      <td id=\"T_8c969_row5_col0\" class=\"data row5 col0\" >Missing Values</td>\n      <td id=\"T_8c969_row5_col1\" class=\"data row5 col1\" >False</td>\n    </tr>\n    <tr>\n      <th id=\"T_8c969_level0_row6\" class=\"row_heading level0 row6\" >6</th>\n      <td id=\"T_8c969_row6_col0\" class=\"data row6 col0\" >Numeric Features</td>\n      <td id=\"T_8c969_row6_col1\" class=\"data row6 col1\" >3</td>\n    </tr>\n    <tr>\n      <th id=\"T_8c969_level0_row7\" class=\"row_heading level0 row7\" >7</th>\n      <td id=\"T_8c969_row7_col0\" class=\"data row7 col0\" >Categorical Features</td>\n      <td id=\"T_8c969_row7_col1\" class=\"data row7 col1\" >3</td>\n    </tr>\n    <tr>\n      <th id=\"T_8c969_level0_row8\" class=\"row_heading level0 row8\" >8</th>\n      <td id=\"T_8c969_row8_col0\" class=\"data row8 col0\" >Ordinal Features</td>\n      <td id=\"T_8c969_row8_col1\" class=\"data row8 col1\" >False</td>\n    </tr>\n    <tr>\n      <th id=\"T_8c969_level0_row9\" class=\"row_heading level0 row9\" >9</th>\n      <td id=\"T_8c969_row9_col0\" class=\"data row9 col0\" >High Cardinality Features</td>\n      <td id=\"T_8c969_row9_col1\" class=\"data row9 col1\" >False</td>\n    </tr>\n    <tr>\n      <th id=\"T_8c969_level0_row10\" class=\"row_heading level0 row10\" >10</th>\n      <td id=\"T_8c969_row10_col0\" class=\"data row10 col0\" >High Cardinality Method</td>\n      <td id=\"T_8c969_row10_col1\" class=\"data row10 col1\" >None</td>\n    </tr>\n    <tr>\n      <th id=\"T_8c969_level0_row11\" class=\"row_heading level0 row11\" >11</th>\n      <td id=\"T_8c969_row11_col0\" class=\"data row11 col0\" >Transformed Train Set</td>\n      <td id=\"T_8c969_row11_col1\" class=\"data row11 col1\" >(3788, 23)</td>\n    </tr>\n    <tr>\n      <th id=\"T_8c969_level0_row12\" class=\"row_heading level0 row12\" >12</th>\n      <td id=\"T_8c969_row12_col0\" class=\"data row12 col0\" >Transformed Test Set</td>\n      <td id=\"T_8c969_row12_col1\" class=\"data row12 col1\" >(1624, 23)</td>\n    </tr>\n    <tr>\n      <th id=\"T_8c969_level0_row13\" class=\"row_heading level0 row13\" >13</th>\n      <td id=\"T_8c969_row13_col0\" class=\"data row13 col0\" >Shuffle Train-Test</td>\n      <td id=\"T_8c969_row13_col1\" class=\"data row13 col1\" >True</td>\n    </tr>\n    <tr>\n      <th id=\"T_8c969_level0_row14\" class=\"row_heading level0 row14\" >14</th>\n      <td id=\"T_8c969_row14_col0\" class=\"data row14 col0\" >Stratify Train-Test</td>\n      <td id=\"T_8c969_row14_col1\" class=\"data row14 col1\" >False</td>\n    </tr>\n    <tr>\n      <th id=\"T_8c969_level0_row15\" class=\"row_heading level0 row15\" >15</th>\n      <td id=\"T_8c969_row15_col0\" class=\"data row15 col0\" >Fold Generator</td>\n      <td id=\"T_8c969_row15_col1\" class=\"data row15 col1\" >StratifiedKFold</td>\n    </tr>\n    <tr>\n      <th id=\"T_8c969_level0_row16\" class=\"row_heading level0 row16\" >16</th>\n      <td id=\"T_8c969_row16_col0\" class=\"data row16 col0\" >Fold Number</td>\n      <td id=\"T_8c969_row16_col1\" class=\"data row16 col1\" >10</td>\n    </tr>\n    <tr>\n      <th id=\"T_8c969_level0_row17\" class=\"row_heading level0 row17\" >17</th>\n      <td id=\"T_8c969_row17_col0\" class=\"data row17 col0\" >CPU Jobs</td>\n      <td id=\"T_8c969_row17_col1\" class=\"data row17 col1\" >-1</td>\n    </tr>\n    <tr>\n      <th id=\"T_8c969_level0_row18\" class=\"row_heading level0 row18\" >18</th>\n      <td id=\"T_8c969_row18_col0\" class=\"data row18 col0\" >Use GPU</td>\n      <td id=\"T_8c969_row18_col1\" class=\"data row18 col1\" >False</td>\n    </tr>\n    <tr>\n      <th id=\"T_8c969_level0_row19\" class=\"row_heading level0 row19\" >19</th>\n      <td id=\"T_8c969_row19_col0\" class=\"data row19 col0\" >Log Experiment</td>\n      <td id=\"T_8c969_row19_col1\" class=\"data row19 col1\" >True</td>\n    </tr>\n    <tr>\n      <th id=\"T_8c969_level0_row20\" class=\"row_heading level0 row20\" >20</th>\n      <td id=\"T_8c969_row20_col0\" class=\"data row20 col0\" >Experiment Name</td>\n      <td id=\"T_8c969_row20_col1\" class=\"data row20 col1\" >Kobe Classifier</td>\n    </tr>\n    <tr>\n      <th id=\"T_8c969_level0_row21\" class=\"row_heading level0 row21\" >21</th>\n      <td id=\"T_8c969_row21_col0\" class=\"data row21 col0\" >USI</td>\n      <td id=\"T_8c969_row21_col1\" class=\"data row21 col1\" >cf8e</td>\n    </tr>\n    <tr>\n      <th id=\"T_8c969_level0_row22\" class=\"row_heading level0 row22\" >22</th>\n      <td id=\"T_8c969_row22_col0\" class=\"data row22 col0\" >Imputation Type</td>\n      <td id=\"T_8c969_row22_col1\" class=\"data row22 col1\" >simple</td>\n    </tr>\n    <tr>\n      <th id=\"T_8c969_level0_row23\" class=\"row_heading level0 row23\" >23</th>\n      <td id=\"T_8c969_row23_col0\" class=\"data row23 col0\" >Iterative Imputation Iteration</td>\n      <td id=\"T_8c969_row23_col1\" class=\"data row23 col1\" >None</td>\n    </tr>\n    <tr>\n      <th id=\"T_8c969_level0_row24\" class=\"row_heading level0 row24\" >24</th>\n      <td id=\"T_8c969_row24_col0\" class=\"data row24 col0\" >Numeric Imputer</td>\n      <td id=\"T_8c969_row24_col1\" class=\"data row24 col1\" >mean</td>\n    </tr>\n    <tr>\n      <th id=\"T_8c969_level0_row25\" class=\"row_heading level0 row25\" >25</th>\n      <td id=\"T_8c969_row25_col0\" class=\"data row25 col0\" >Iterative Imputation Numeric Model</td>\n      <td id=\"T_8c969_row25_col1\" class=\"data row25 col1\" >None</td>\n    </tr>\n    <tr>\n      <th id=\"T_8c969_level0_row26\" class=\"row_heading level0 row26\" >26</th>\n      <td id=\"T_8c969_row26_col0\" class=\"data row26 col0\" >Categorical Imputer</td>\n      <td id=\"T_8c969_row26_col1\" class=\"data row26 col1\" >constant</td>\n    </tr>\n    <tr>\n      <th id=\"T_8c969_level0_row27\" class=\"row_heading level0 row27\" >27</th>\n      <td id=\"T_8c969_row27_col0\" class=\"data row27 col0\" >Iterative Imputation Categorical Model</td>\n      <td id=\"T_8c969_row27_col1\" class=\"data row27 col1\" >None</td>\n    </tr>\n    <tr>\n      <th id=\"T_8c969_level0_row28\" class=\"row_heading level0 row28\" >28</th>\n      <td id=\"T_8c969_row28_col0\" class=\"data row28 col0\" >Unknown Categoricals Handling</td>\n      <td id=\"T_8c969_row28_col1\" class=\"data row28 col1\" >least_frequent</td>\n    </tr>\n    <tr>\n      <th id=\"T_8c969_level0_row29\" class=\"row_heading level0 row29\" >29</th>\n      <td id=\"T_8c969_row29_col0\" class=\"data row29 col0\" >Normalize</td>\n      <td id=\"T_8c969_row29_col1\" class=\"data row29 col1\" >True</td>\n    </tr>\n    <tr>\n      <th id=\"T_8c969_level0_row30\" class=\"row_heading level0 row30\" >30</th>\n      <td id=\"T_8c969_row30_col0\" class=\"data row30 col0\" >Normalize Method</td>\n      <td id=\"T_8c969_row30_col1\" class=\"data row30 col1\" >zscore</td>\n    </tr>\n    <tr>\n      <th id=\"T_8c969_level0_row31\" class=\"row_heading level0 row31\" >31</th>\n      <td id=\"T_8c969_row31_col0\" class=\"data row31 col0\" >Transformation</td>\n      <td id=\"T_8c969_row31_col1\" class=\"data row31 col1\" >False</td>\n    </tr>\n    <tr>\n      <th id=\"T_8c969_level0_row32\" class=\"row_heading level0 row32\" >32</th>\n      <td id=\"T_8c969_row32_col0\" class=\"data row32 col0\" >Transformation Method</td>\n      <td id=\"T_8c969_row32_col1\" class=\"data row32 col1\" >None</td>\n    </tr>\n    <tr>\n      <th id=\"T_8c969_level0_row33\" class=\"row_heading level0 row33\" >33</th>\n      <td id=\"T_8c969_row33_col0\" class=\"data row33 col0\" >PCA</td>\n      <td id=\"T_8c969_row33_col1\" class=\"data row33 col1\" >False</td>\n    </tr>\n    <tr>\n      <th id=\"T_8c969_level0_row34\" class=\"row_heading level0 row34\" >34</th>\n      <td id=\"T_8c969_row34_col0\" class=\"data row34 col0\" >PCA Method</td>\n      <td id=\"T_8c969_row34_col1\" class=\"data row34 col1\" >None</td>\n    </tr>\n    <tr>\n      <th id=\"T_8c969_level0_row35\" class=\"row_heading level0 row35\" >35</th>\n      <td id=\"T_8c969_row35_col0\" class=\"data row35 col0\" >PCA Components</td>\n      <td id=\"T_8c969_row35_col1\" class=\"data row35 col1\" >None</td>\n    </tr>\n    <tr>\n      <th id=\"T_8c969_level0_row36\" class=\"row_heading level0 row36\" >36</th>\n      <td id=\"T_8c969_row36_col0\" class=\"data row36 col0\" >Ignore Low Variance</td>\n      <td id=\"T_8c969_row36_col1\" class=\"data row36 col1\" >False</td>\n    </tr>\n    <tr>\n      <th id=\"T_8c969_level0_row37\" class=\"row_heading level0 row37\" >37</th>\n      <td id=\"T_8c969_row37_col0\" class=\"data row37 col0\" >Combine Rare Levels</td>\n      <td id=\"T_8c969_row37_col1\" class=\"data row37 col1\" >False</td>\n    </tr>\n    <tr>\n      <th id=\"T_8c969_level0_row38\" class=\"row_heading level0 row38\" >38</th>\n      <td id=\"T_8c969_row38_col0\" class=\"data row38 col0\" >Rare Level Threshold</td>\n      <td id=\"T_8c969_row38_col1\" class=\"data row38 col1\" >None</td>\n    </tr>\n    <tr>\n      <th id=\"T_8c969_level0_row39\" class=\"row_heading level0 row39\" >39</th>\n      <td id=\"T_8c969_row39_col0\" class=\"data row39 col0\" >Numeric Binning</td>\n      <td id=\"T_8c969_row39_col1\" class=\"data row39 col1\" >False</td>\n    </tr>\n    <tr>\n      <th id=\"T_8c969_level0_row40\" class=\"row_heading level0 row40\" >40</th>\n      <td id=\"T_8c969_row40_col0\" class=\"data row40 col0\" >Remove Outliers</td>\n      <td id=\"T_8c969_row40_col1\" class=\"data row40 col1\" >False</td>\n    </tr>\n    <tr>\n      <th id=\"T_8c969_level0_row41\" class=\"row_heading level0 row41\" >41</th>\n      <td id=\"T_8c969_row41_col0\" class=\"data row41 col0\" >Outliers Threshold</td>\n      <td id=\"T_8c969_row41_col1\" class=\"data row41 col1\" >None</td>\n    </tr>\n    <tr>\n      <th id=\"T_8c969_level0_row42\" class=\"row_heading level0 row42\" >42</th>\n      <td id=\"T_8c969_row42_col0\" class=\"data row42 col0\" >Remove Multicollinearity</td>\n      <td id=\"T_8c969_row42_col1\" class=\"data row42 col1\" >False</td>\n    </tr>\n    <tr>\n      <th id=\"T_8c969_level0_row43\" class=\"row_heading level0 row43\" >43</th>\n      <td id=\"T_8c969_row43_col0\" class=\"data row43 col0\" >Multicollinearity Threshold</td>\n      <td id=\"T_8c969_row43_col1\" class=\"data row43 col1\" >None</td>\n    </tr>\n    <tr>\n      <th id=\"T_8c969_level0_row44\" class=\"row_heading level0 row44\" >44</th>\n      <td id=\"T_8c969_row44_col0\" class=\"data row44 col0\" >Remove Perfect Collinearity</td>\n      <td id=\"T_8c969_row44_col1\" class=\"data row44 col1\" >True</td>\n    </tr>\n    <tr>\n      <th id=\"T_8c969_level0_row45\" class=\"row_heading level0 row45\" >45</th>\n      <td id=\"T_8c969_row45_col0\" class=\"data row45 col0\" >Clustering</td>\n      <td id=\"T_8c969_row45_col1\" class=\"data row45 col1\" >False</td>\n    </tr>\n    <tr>\n      <th id=\"T_8c969_level0_row46\" class=\"row_heading level0 row46\" >46</th>\n      <td id=\"T_8c969_row46_col0\" class=\"data row46 col0\" >Clustering Iteration</td>\n      <td id=\"T_8c969_row46_col1\" class=\"data row46 col1\" >None</td>\n    </tr>\n    <tr>\n      <th id=\"T_8c969_level0_row47\" class=\"row_heading level0 row47\" >47</th>\n      <td id=\"T_8c969_row47_col0\" class=\"data row47 col0\" >Polynomial Features</td>\n      <td id=\"T_8c969_row47_col1\" class=\"data row47 col1\" >False</td>\n    </tr>\n    <tr>\n      <th id=\"T_8c969_level0_row48\" class=\"row_heading level0 row48\" >48</th>\n      <td id=\"T_8c969_row48_col0\" class=\"data row48 col0\" >Polynomial Degree</td>\n      <td id=\"T_8c969_row48_col1\" class=\"data row48 col1\" >None</td>\n    </tr>\n    <tr>\n      <th id=\"T_8c969_level0_row49\" class=\"row_heading level0 row49\" >49</th>\n      <td id=\"T_8c969_row49_col0\" class=\"data row49 col0\" >Trignometry Features</td>\n      <td id=\"T_8c969_row49_col1\" class=\"data row49 col1\" >False</td>\n    </tr>\n    <tr>\n      <th id=\"T_8c969_level0_row50\" class=\"row_heading level0 row50\" >50</th>\n      <td id=\"T_8c969_row50_col0\" class=\"data row50 col0\" >Polynomial Threshold</td>\n      <td id=\"T_8c969_row50_col1\" class=\"data row50 col1\" >None</td>\n    </tr>\n    <tr>\n      <th id=\"T_8c969_level0_row51\" class=\"row_heading level0 row51\" >51</th>\n      <td id=\"T_8c969_row51_col0\" class=\"data row51 col0\" >Group Features</td>\n      <td id=\"T_8c969_row51_col1\" class=\"data row51 col1\" >False</td>\n    </tr>\n    <tr>\n      <th id=\"T_8c969_level0_row52\" class=\"row_heading level0 row52\" >52</th>\n      <td id=\"T_8c969_row52_col0\" class=\"data row52 col0\" >Feature Selection</td>\n      <td id=\"T_8c969_row52_col1\" class=\"data row52 col1\" >False</td>\n    </tr>\n    <tr>\n      <th id=\"T_8c969_level0_row53\" class=\"row_heading level0 row53\" >53</th>\n      <td id=\"T_8c969_row53_col0\" class=\"data row53 col0\" >Feature Selection Method</td>\n      <td id=\"T_8c969_row53_col1\" class=\"data row53 col1\" >classic</td>\n    </tr>\n    <tr>\n      <th id=\"T_8c969_level0_row54\" class=\"row_heading level0 row54\" >54</th>\n      <td id=\"T_8c969_row54_col0\" class=\"data row54 col0\" >Features Selection Threshold</td>\n      <td id=\"T_8c969_row54_col1\" class=\"data row54 col1\" >None</td>\n    </tr>\n    <tr>\n      <th id=\"T_8c969_level0_row55\" class=\"row_heading level0 row55\" >55</th>\n      <td id=\"T_8c969_row55_col0\" class=\"data row55 col0\" >Feature Interaction</td>\n      <td id=\"T_8c969_row55_col1\" class=\"data row55 col1\" >False</td>\n    </tr>\n    <tr>\n      <th id=\"T_8c969_level0_row56\" class=\"row_heading level0 row56\" >56</th>\n      <td id=\"T_8c969_row56_col0\" class=\"data row56 col0\" >Feature Ratio</td>\n      <td id=\"T_8c969_row56_col1\" class=\"data row56 col1\" >False</td>\n    </tr>\n    <tr>\n      <th id=\"T_8c969_level0_row57\" class=\"row_heading level0 row57\" >57</th>\n      <td id=\"T_8c969_row57_col0\" class=\"data row57 col0\" >Interaction Threshold</td>\n      <td id=\"T_8c969_row57_col1\" class=\"data row57 col1\" >None</td>\n    </tr>\n    <tr>\n      <th id=\"T_8c969_level0_row58\" class=\"row_heading level0 row58\" >58</th>\n      <td id=\"T_8c969_row58_col0\" class=\"data row58 col0\" >Fix Imbalance</td>\n      <td id=\"T_8c969_row58_col1\" class=\"data row58 col1\" >False</td>\n    </tr>\n    <tr>\n      <th id=\"T_8c969_level0_row59\" class=\"row_heading level0 row59\" >59</th>\n      <td id=\"T_8c969_row59_col0\" class=\"data row59 col0\" >Fix Imbalance Method</td>\n      <td id=\"T_8c969_row59_col1\" class=\"data row59 col1\" >SMOTE</td>\n    </tr>\n  </tbody>\n</table>\n"
     },
     "metadata": {},
     "output_type": "display_data"
    },
    {
     "data": {
      "text/plain": "<pandas.io.formats.style.Styler at 0x7fb7c48c0e50>",
      "text/html": "<style type=\"text/css\">\n</style>\n<table id=\"T_ae635\">\n  <thead>\n    <tr>\n      <th class=\"blank level0\" >&nbsp;</th>\n      <th id=\"T_ae635_level0_col0\" class=\"col_heading level0 col0\" >Model</th>\n      <th id=\"T_ae635_level0_col1\" class=\"col_heading level0 col1\" >Accuracy</th>\n      <th id=\"T_ae635_level0_col2\" class=\"col_heading level0 col2\" >AUC</th>\n      <th id=\"T_ae635_level0_col3\" class=\"col_heading level0 col3\" >Recall</th>\n      <th id=\"T_ae635_level0_col4\" class=\"col_heading level0 col4\" >Prec.</th>\n      <th id=\"T_ae635_level0_col5\" class=\"col_heading level0 col5\" >F1</th>\n      <th id=\"T_ae635_level0_col6\" class=\"col_heading level0 col6\" >Kappa</th>\n      <th id=\"T_ae635_level0_col7\" class=\"col_heading level0 col7\" >MCC</th>\n    </tr>\n  </thead>\n  <tbody>\n    <tr>\n      <th id=\"T_ae635_level0_row0\" class=\"row_heading level0 row0\" >0</th>\n      <td id=\"T_ae635_row0_col0\" class=\"data row0 col0\" >Ada Boost Classifier</td>\n      <td id=\"T_ae635_row0_col1\" class=\"data row0 col1\" >0.6656</td>\n      <td id=\"T_ae635_row0_col2\" class=\"data row0 col2\" >0.5442</td>\n      <td id=\"T_ae635_row0_col3\" class=\"data row0 col3\" >0.0671</td>\n      <td id=\"T_ae635_row0_col4\" class=\"data row0 col4\" >0.3269</td>\n      <td id=\"T_ae635_row0_col5\" class=\"data row0 col5\" >0.1113</td>\n      <td id=\"T_ae635_row0_col6\" class=\"data row0 col6\" >0.0056</td>\n      <td id=\"T_ae635_row0_col7\" class=\"data row0 col7\" >0.0083</td>\n    </tr>\n  </tbody>\n</table>\n"
     },
     "metadata": {},
     "output_type": "display_data"
    }
   ],
   "source": [
    "with mlflow.start_run(experiment_id=experiment_id, run_name='Testando aderencia', description='Testando aderencia'):\n",
    "\n",
    "    bestmodel = pycaret.classification.load_model(f'./{classification_model_name}')\n",
    "\n",
    "    pycaret.classification.setup(data=df,\n",
    "                 test_data=None,\n",
    "                 target=target_col,\n",
    "                 silent=True,\n",
    "                 log_experiment=True,\n",
    "                 experiment_name=experiment_name,\n",
    "                 log_plots=True,\n",
    "                 normalize=True,\n",
    "                 )\n",
    "\n",
    "    add_metric('logloss', 'Log Loss', log_loss, greater_is_better = False)\n",
    "\n",
    "    pred_holdout = pycaret.classification.predict_model(bestmodel)\n",
    "\n",
    "    pr_2pts = metrics.precision_score(pred_holdout[target_col], pred_holdout['Label'],)\n",
    "    # accuracy_score = metrics.accuracy_score(pred_holdout[target_col], pred_holdout['Label'], )\n",
    "    logloss_2pts = metrics.log_loss(pred_holdout[target_col], pred_holdout['Label'])\n",
    "    # f1_score = metrics.f1_score(pred_holdout[target_col], pred_holdout['Label'])\n",
    "\n",
    "    #########################\n",
    "\n",
    "    pycaret.classification.setup(data=df_3pts,\n",
    "                 test_data=None,\n",
    "                 target=target_col,\n",
    "                 silent=True,\n",
    "                 log_experiment=True,\n",
    "                 experiment_name=experiment_name,\n",
    "                 log_plots=True,\n",
    "                 normalize=True,\n",
    "                 )\n",
    "\n",
    "    pred_holdout = pycaret.classification.predict_model(bestmodel)\n",
    "\n",
    "    pr_3pts = metrics.precision_score(pred_holdout[target_col], pred_holdout['Label'],)\n",
    "    logloss_3pts = metrics.log_loss(pred_holdout[target_col], pred_holdout['Label'])\n",
    "\n",
    "\n",
    "    mlflow.log_metric(\"3pts - precisao\", pr_3pts)\n",
    "    mlflow.log_metric(\"3pts - logloss\", logloss_3pts)\n",
    "\n",
    "    mlflow.log_metric(\"2pts - precisao\", pr_2pts)\n",
    "    mlflow.log_metric(\"2pts - logloss\", logloss_2pts)\n",
    "\n",
    "mlflow.end_run()"
   ],
   "metadata": {
    "collapsed": false,
    "pycharm": {
     "name": "#%%\n"
    }
   }
  },
  {
   "cell_type": "markdown",
   "source": [
    "# Serviço do Modelo"
   ],
   "metadata": {
    "collapsed": false,
    "pycharm": {
     "name": "#%% md\n"
    }
   }
  },
  {
   "cell_type": "code",
   "execution_count": null,
   "outputs": [],
   "source": [
    "# executar no terminal\n",
    "# export MLFLOW_TRACKING_URI='sqlite:///mlruns.db'\n",
    "\n",
    "# mlflow models serve -m \"models:/kobe-classification/Staging\" --no-conda -p 5001\n",
    "# ou\n",
    "# mlflow models serve -m \"models:/kobe-regression/Staging\" --no-conda -p 5001"
   ],
   "metadata": {
    "collapsed": false,
    "pycharm": {
     "name": "#%%\n"
    }
   }
  },
  {
   "cell_type": "markdown",
   "source": [
    "# chamada a api"
   ],
   "metadata": {
    "collapsed": false,
    "pycharm": {
     "name": "#%% md\n"
    }
   }
  },
  {
   "cell_type": "code",
   "execution_count": null,
   "outputs": [],
   "source": [
    "def call_api(df):\n",
    "    # Configura a requisição\n",
    "    host = 'localhost'\n",
    "    port = '5001'\n",
    "    url = f'http://{host}:{port}/invocations'\n",
    "    headers = {'Content-Type': 'application/json',}\n",
    "\n",
    "    http_data = df.drop(target_col,axis=1).to_json(orient='split')\n",
    "\n",
    "    r = requests.post(url=url, headers=headers, data=http_data)\n",
    "\n",
    "    df.loc[:, 'operation_label'] = pd.read_json(r.text).values[:,0]\n",
    "\n",
    "    df.to_parquet('../Data/operalization/base_3pts.parquet')\n",
    "\n",
    "    print(df[df.operation_label == 1].sort_values('shot_distance', ascending=False).head(50))"
   ],
   "metadata": {
    "collapsed": false,
    "pycharm": {
     "name": "#%%\n"
    }
   }
  },
  {
   "cell_type": "code",
   "execution_count": null,
   "outputs": [],
   "source": [
    "call_api(df_3pts)\n"
   ],
   "metadata": {
    "collapsed": false,
    "pycharm": {
     "name": "#%%\n"
    }
   }
  }
 ],
 "metadata": {
  "kernelspec": {
   "display_name": "Python 3 (ipykernel)",
   "language": "python",
   "name": "python3"
  },
  "language_info": {
   "codemirror_mode": {
    "name": "ipython",
    "version": 3
   },
   "file_extension": ".py",
   "mimetype": "text/x-python",
   "name": "python",
   "nbconvert_exporter": "python",
   "pygments_lexer": "ipython3",
   "version": "3.8.10"
  }
 },
 "nbformat": 4,
 "nbformat_minor": 5
}