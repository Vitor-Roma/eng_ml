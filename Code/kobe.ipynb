{
 "cells": [
  {
   "cell_type": "markdown",
   "source": [
    "https://github.com/ricardovroma/eng_ml\n",
    "\n",
    "# Config"
   ],
   "metadata": {
    "collapsed": false,
    "pycharm": {
     "name": "#%% md\n"
    }
   }
  },
  {
   "cell_type": "code",
   "execution_count": 24,
   "outputs": [],
   "source": [
    "import os\n",
    "\n",
    "import joblib\n",
    "import numpy as np\n",
    "import pandas as pd\n",
    "import pycaret\n",
    "import requests\n",
    "from mlflow.models import infer_signature\n",
    "from mlflow.tracking import MlflowClient\n",
    "from pycaret import classification\n",
    "from sklearn import model_selection, metrics\n",
    "\n",
    "os.environ['MLFLOW_TRACKING_URI'] = 'sqlite:///mlruns.db'  # Criando uma variável de ambiente\n",
    "import mlflow"
   ],
   "metadata": {
    "collapsed": false,
    "pycharm": {
     "name": "#%%\n"
    }
   }
  },
  {
   "cell_type": "code",
   "execution_count": 25,
   "outputs": [],
   "source": [
    "SEED = 10\n",
    "\n",
    "np.random.seed(SEED)\n",
    "\n",
    "classification_model_name = 'kobe-classification'\n",
    "regression_model_name = 'kobe-regression'\n",
    "min_precision = 0.5\n",
    "model_version = -1\n",
    "samples_qt = 5"
   ],
   "metadata": {
    "collapsed": false,
    "pycharm": {
     "name": "#%%\n"
    }
   }
  },
  {
   "cell_type": "markdown",
   "source": [
    "# Definindo Features e colunas"
   ],
   "metadata": {
    "collapsed": false,
    "pycharm": {
     "name": "#%% md\n"
    }
   }
  },
  {
   "cell_type": "code",
   "source": [
    "experiment_name = 'Kobe Classifier'\n",
    "experiment = mlflow.get_experiment_by_name(experiment_name)\n",
    "if experiment is None:\n",
    "    experiment_id = mlflow.create_experiment(experiment_name)\n",
    "    experiment = mlflow.get_experiment(experiment_id)\n",
    "experiment_id = experiment.experiment_id\n",
    "\n",
    "percentual_test = 0.2\n",
    "target_col = 'shot_made_flag'\n",
    "selected_features = {\n",
    "    'lat': float,\n",
    "    'lon': float,\n",
    "    'minutes_remaining': int,\n",
    "    'period': int,\n",
    "    'playoffs': int,\n",
    "    'shot_distance': int,\n",
    "    'shot_made_flag': str,\n",
    "    'shot_type': str,\n",
    "}"
   ],
   "metadata": {
    "collapsed": false,
    "pycharm": {
     "name": "#%%\n"
    }
   },
   "execution_count": 26,
   "outputs": []
  },
  {
   "cell_type": "markdown",
   "source": [
    "## Carregando a base, limpando os nulos do campo shot_made_flag, filtrando shot_type por 2PT Field Goal"
   ],
   "metadata": {
    "collapsed": false,
    "pycharm": {
     "name": "#%% md\n"
    }
   }
  },
  {
   "cell_type": "code",
   "execution_count": 27,
   "outputs": [
    {
     "name": "stdout",
     "output_type": "stream",
     "text": [
      "==================== Data ======================================\n",
      "Filtered data: (20285, 7)\n",
      "Train data: (16228, 7)\n",
      "test data: (4057, 7)\n",
      "3pts data: (5412, 7)\n",
      "Columns: Index(['lat', 'lon', 'minutes_remaining', 'period', 'playoffs',\n",
      "       'shot_distance', 'shot_made_flag'],\n",
      "      dtype='object')\n"
     ]
    }
   ],
   "source": [
    "with mlflow.start_run(experiment_id=experiment_id, run_name='PreparacaoDados', description=\"Filtered database, train, test, 3pts database\"):\n",
    "    df_naive = pd.read_csv('../Data/dataset_kobe.csv', sep=',',\n",
    "                     usecols=list(selected_features.keys()),\n",
    "                     converters = selected_features,\n",
    "                     na_filter=True,\n",
    "                     )\n",
    "    df = df_naive.loc[ (df_naive['shot_made_flag'] != \"\") & (df_naive['shot_type'] == '2PT Field Goal') ].drop('shot_type', axis=1)\n",
    "    df_3pts = df_naive.loc[ (df_naive['shot_made_flag'] != \"\") & (df_naive['shot_type'] == '3PT Field Goal') ].drop('shot_type', axis=1)\n",
    "    del selected_features['shot_type']\n",
    "    df['shot_made_flag'] = df['shot_made_flag'].astype(int)\n",
    "\n",
    "\n",
    "    df_train, df_test, y_train, y_test = model_selection.train_test_split(\n",
    "        df,\n",
    "        df[target_col],\n",
    "        test_size=percentual_test,\n",
    "        random_state=None,\n",
    "        shuffle=True,\n",
    "        stratify=None)\n",
    "\n",
    "    df_train[target_col] = y_train\n",
    "    df_test[target_col] = y_test\n",
    "\n",
    "    df.to_parquet('../Data/processed/data_filtered.parquet')\n",
    "    df_train.to_parquet('../Data/operalization/base_train.parquet')\n",
    "    df_test.to_parquet('../Data/operalization/base_test.parquet')\n",
    "    df_3pts.to_parquet('../Data/operalization/base_3pts.parquet')\n",
    "\n",
    "    mlflow.log_param(\"selected_features\", selected_features)\n",
    "\n",
    "    mlflow.log_metric(\"Filtered data\", df.shape[0])\n",
    "    mlflow.log_metric(\"Train data\", df_train.shape[0])\n",
    "    mlflow.log_metric(\"Test data\", df_test.shape[0])\n",
    "    mlflow.log_metric(\"3pts data\", df_3pts.shape[0])\n",
    "\n",
    "    mlflow.log_artifact('../Data/processed/data_filtered.parquet')\n",
    "    mlflow.log_artifact('../Data/operalization/base_train.parquet')\n",
    "    mlflow.log_artifact('../Data/operalization/base_test.parquet')\n",
    "    mlflow.log_artifact('../Data/operalization/base_3pts.parquet')\n",
    "\n",
    "mlflow.end_run()\n",
    "\n",
    "print('==================== Data ======================================')\n",
    "print(f'Filtered data: {df.shape}')\n",
    "print(f'Train data: {df_train.shape}')\n",
    "print(f'test data: {df_test.shape}')\n",
    "print(f'3pts data: {df_3pts.shape}')\n",
    "print(f'Columns: {df_train.columns}')"
   ],
   "metadata": {
    "collapsed": false,
    "pycharm": {
     "name": "#%%\n"
    }
   }
  },
  {
   "cell_type": "code",
   "execution_count": 28,
   "outputs": [],
   "source": [
    "# mlflow ui --backend-store-uri sqlite:///mlruns.db -p 5002"
   ],
   "metadata": {
    "collapsed": false,
    "pycharm": {
     "name": "#%%\n"
    }
   }
  },
  {
   "cell_type": "markdown",
   "source": [
    "# Treinamento do modelo"
   ],
   "metadata": {
    "collapsed": false
   }
  },
  {
   "cell_type": "code",
   "execution_count": 29,
   "outputs": [
    {
     "data": {
      "text/plain": "['lat', 'lon', 'minutes_remaining', 'period', 'playoffs', 'shot_distance']"
     },
     "execution_count": 29,
     "metadata": {},
     "output_type": "execute_result"
    }
   ],
   "source": [
    "numeric_features = [list(selected_features)[k] for k, x in enumerate(selected_features.values()) if x in [float, int] ]\n",
    "numeric_features"
   ],
   "metadata": {
    "collapsed": false,
    "pycharm": {
     "name": "#%%\n"
    }
   }
  },
  {
   "cell_type": "code",
   "execution_count": 34,
   "outputs": [
    {
     "data": {
      "text/plain": "<pandas.io.formats.style.Styler at 0x7fb7c4acbbb0>",
      "text/html": "<style type=\"text/css\">\n#T_1db9e th {\n  text-align: left;\n}\n#T_1db9e_row0_col0, #T_1db9e_row0_col3, #T_1db9e_row0_col5, #T_1db9e_row1_col0, #T_1db9e_row1_col1, #T_1db9e_row1_col2, #T_1db9e_row1_col3, #T_1db9e_row1_col4, #T_1db9e_row1_col5, #T_1db9e_row1_col7, #T_1db9e_row2_col0, #T_1db9e_row2_col1, #T_1db9e_row2_col2, #T_1db9e_row2_col3, #T_1db9e_row2_col4, #T_1db9e_row2_col5, #T_1db9e_row2_col6, #T_1db9e_row2_col7, #T_1db9e_row3_col0, #T_1db9e_row3_col1, #T_1db9e_row3_col2, #T_1db9e_row3_col3, #T_1db9e_row3_col4, #T_1db9e_row3_col5, #T_1db9e_row3_col6, #T_1db9e_row3_col7, #T_1db9e_row4_col0, #T_1db9e_row4_col1, #T_1db9e_row4_col2, #T_1db9e_row4_col3, #T_1db9e_row4_col4, #T_1db9e_row4_col5, #T_1db9e_row4_col6, #T_1db9e_row4_col7, #T_1db9e_row5_col0, #T_1db9e_row5_col1, #T_1db9e_row5_col2, #T_1db9e_row5_col3, #T_1db9e_row5_col4, #T_1db9e_row5_col5, #T_1db9e_row5_col6, #T_1db9e_row5_col7, #T_1db9e_row6_col0, #T_1db9e_row6_col1, #T_1db9e_row6_col2, #T_1db9e_row6_col3, #T_1db9e_row6_col4, #T_1db9e_row6_col5, #T_1db9e_row6_col6, #T_1db9e_row6_col7, #T_1db9e_row7_col0, #T_1db9e_row7_col1, #T_1db9e_row7_col2, #T_1db9e_row7_col3, #T_1db9e_row7_col4, #T_1db9e_row7_col5, #T_1db9e_row7_col6, #T_1db9e_row7_col7, #T_1db9e_row8_col0, #T_1db9e_row8_col1, #T_1db9e_row8_col2, #T_1db9e_row8_col3, #T_1db9e_row8_col4, #T_1db9e_row8_col5, #T_1db9e_row8_col6, #T_1db9e_row8_col7, #T_1db9e_row9_col0, #T_1db9e_row9_col1, #T_1db9e_row9_col2, #T_1db9e_row9_col3, #T_1db9e_row9_col4, #T_1db9e_row9_col5, #T_1db9e_row9_col6, #T_1db9e_row9_col7, #T_1db9e_row10_col0, #T_1db9e_row10_col1, #T_1db9e_row10_col2, #T_1db9e_row10_col3, #T_1db9e_row10_col4, #T_1db9e_row10_col6, #T_1db9e_row10_col7, #T_1db9e_row11_col0, #T_1db9e_row11_col1, #T_1db9e_row11_col2, #T_1db9e_row11_col3, #T_1db9e_row11_col4, #T_1db9e_row11_col5, #T_1db9e_row11_col6, #T_1db9e_row11_col7, #T_1db9e_row12_col0, #T_1db9e_row12_col1, #T_1db9e_row12_col2, #T_1db9e_row12_col3, #T_1db9e_row12_col4, #T_1db9e_row12_col5, #T_1db9e_row12_col6, #T_1db9e_row12_col7, #T_1db9e_row13_col0, #T_1db9e_row13_col1, #T_1db9e_row13_col2, #T_1db9e_row13_col4, #T_1db9e_row13_col5, #T_1db9e_row13_col6, #T_1db9e_row13_col7 {\n  text-align: left;\n}\n#T_1db9e_row0_col1, #T_1db9e_row0_col2, #T_1db9e_row0_col4, #T_1db9e_row0_col6, #T_1db9e_row0_col7, #T_1db9e_row1_col6, #T_1db9e_row10_col5, #T_1db9e_row13_col3 {\n  text-align: left;\n  background-color: yellow;\n}\n#T_1db9e_row0_col8, #T_1db9e_row1_col8, #T_1db9e_row2_col8, #T_1db9e_row3_col8, #T_1db9e_row4_col8, #T_1db9e_row5_col8, #T_1db9e_row6_col8, #T_1db9e_row7_col8, #T_1db9e_row8_col8, #T_1db9e_row9_col8, #T_1db9e_row10_col8, #T_1db9e_row11_col8, #T_1db9e_row13_col8 {\n  text-align: left;\n  background-color: lightgrey;\n}\n#T_1db9e_row12_col8 {\n  text-align: left;\n  background-color: yellow;\n  background-color: lightgrey;\n}\n</style>\n<table id=\"T_1db9e\">\n  <thead>\n    <tr>\n      <th class=\"blank level0\" >&nbsp;</th>\n      <th id=\"T_1db9e_level0_col0\" class=\"col_heading level0 col0\" >Model</th>\n      <th id=\"T_1db9e_level0_col1\" class=\"col_heading level0 col1\" >Accuracy</th>\n      <th id=\"T_1db9e_level0_col2\" class=\"col_heading level0 col2\" >AUC</th>\n      <th id=\"T_1db9e_level0_col3\" class=\"col_heading level0 col3\" >Recall</th>\n      <th id=\"T_1db9e_level0_col4\" class=\"col_heading level0 col4\" >Prec.</th>\n      <th id=\"T_1db9e_level0_col5\" class=\"col_heading level0 col5\" >F1</th>\n      <th id=\"T_1db9e_level0_col6\" class=\"col_heading level0 col6\" >Kappa</th>\n      <th id=\"T_1db9e_level0_col7\" class=\"col_heading level0 col7\" >MCC</th>\n      <th id=\"T_1db9e_level0_col8\" class=\"col_heading level0 col8\" >TT (Sec)</th>\n    </tr>\n  </thead>\n  <tbody>\n    <tr>\n      <th id=\"T_1db9e_level0_row0\" class=\"row_heading level0 row0\" >ada</th>\n      <td id=\"T_1db9e_row0_col0\" class=\"data row0 col0\" >Ada Boost Classifier</td>\n      <td id=\"T_1db9e_row0_col1\" class=\"data row0 col1\" >0.5936</td>\n      <td id=\"T_1db9e_row0_col2\" class=\"data row0 col2\" >0.6035</td>\n      <td id=\"T_1db9e_row0_col3\" class=\"data row0 col3\" >0.3828</td>\n      <td id=\"T_1db9e_row0_col4\" class=\"data row0 col4\" >0.6218</td>\n      <td id=\"T_1db9e_row0_col5\" class=\"data row0 col5\" >0.4737</td>\n      <td id=\"T_1db9e_row0_col6\" class=\"data row0 col6\" >0.1723</td>\n      <td id=\"T_1db9e_row0_col7\" class=\"data row0 col7\" >0.1858</td>\n      <td id=\"T_1db9e_row0_col8\" class=\"data row0 col8\" >0.0790</td>\n    </tr>\n    <tr>\n      <th id=\"T_1db9e_level0_row1\" class=\"row_heading level0 row1\" >gbc</th>\n      <td id=\"T_1db9e_row1_col0\" class=\"data row1 col0\" >Gradient Boosting Classifier</td>\n      <td id=\"T_1db9e_row1_col1\" class=\"data row1 col1\" >0.5934</td>\n      <td id=\"T_1db9e_row1_col2\" class=\"data row1 col2\" >0.6033</td>\n      <td id=\"T_1db9e_row1_col3\" class=\"data row1 col3\" >0.3874</td>\n      <td id=\"T_1db9e_row1_col4\" class=\"data row1 col4\" >0.6195</td>\n      <td id=\"T_1db9e_row1_col5\" class=\"data row1 col5\" >0.4766</td>\n      <td id=\"T_1db9e_row1_col6\" class=\"data row1 col6\" >0.1723</td>\n      <td id=\"T_1db9e_row1_col7\" class=\"data row1 col7\" >0.1850</td>\n      <td id=\"T_1db9e_row1_col8\" class=\"data row1 col8\" >0.2060</td>\n    </tr>\n    <tr>\n      <th id=\"T_1db9e_level0_row2\" class=\"row_heading level0 row2\" >lightgbm</th>\n      <td id=\"T_1db9e_row2_col0\" class=\"data row2 col0\" >Light Gradient Boosting Machine</td>\n      <td id=\"T_1db9e_row2_col1\" class=\"data row2 col1\" >0.5849</td>\n      <td id=\"T_1db9e_row2_col2\" class=\"data row2 col2\" >0.5977</td>\n      <td id=\"T_1db9e_row2_col3\" class=\"data row2 col3\" >0.4664</td>\n      <td id=\"T_1db9e_row2_col4\" class=\"data row2 col4\" >0.5822</td>\n      <td id=\"T_1db9e_row2_col5\" class=\"data row2 col5\" >0.5178</td>\n      <td id=\"T_1db9e_row2_col6\" class=\"data row2 col6\" >0.1611</td>\n      <td id=\"T_1db9e_row2_col7\" class=\"data row2 col7\" >0.1642</td>\n      <td id=\"T_1db9e_row2_col8\" class=\"data row2 col8\" >0.0380</td>\n    </tr>\n    <tr>\n      <th id=\"T_1db9e_level0_row3\" class=\"row_heading level0 row3\" >lr</th>\n      <td id=\"T_1db9e_row3_col0\" class=\"data row3 col0\" >Logistic Regression</td>\n      <td id=\"T_1db9e_row3_col1\" class=\"data row3 col1\" >0.5813</td>\n      <td id=\"T_1db9e_row3_col2\" class=\"data row3 col2\" >0.6018</td>\n      <td id=\"T_1db9e_row3_col3\" class=\"data row3 col3\" >0.4950</td>\n      <td id=\"T_1db9e_row3_col4\" class=\"data row3 col4\" >0.5717</td>\n      <td id=\"T_1db9e_row3_col5\" class=\"data row3 col5\" >0.5306</td>\n      <td id=\"T_1db9e_row3_col6\" class=\"data row3 col6\" >0.1563</td>\n      <td id=\"T_1db9e_row3_col7\" class=\"data row3 col7\" >0.1576</td>\n      <td id=\"T_1db9e_row3_col8\" class=\"data row3 col8\" >0.0340</td>\n    </tr>\n    <tr>\n      <th id=\"T_1db9e_level0_row4\" class=\"row_heading level0 row4\" >ridge</th>\n      <td id=\"T_1db9e_row4_col0\" class=\"data row4 col0\" >Ridge Classifier</td>\n      <td id=\"T_1db9e_row4_col1\" class=\"data row4 col1\" >0.5810</td>\n      <td id=\"T_1db9e_row4_col2\" class=\"data row4 col2\" >0.0000</td>\n      <td id=\"T_1db9e_row4_col3\" class=\"data row4 col3\" >0.4954</td>\n      <td id=\"T_1db9e_row4_col4\" class=\"data row4 col4\" >0.5712</td>\n      <td id=\"T_1db9e_row4_col5\" class=\"data row4 col5\" >0.5305</td>\n      <td id=\"T_1db9e_row4_col6\" class=\"data row4 col6\" >0.1556</td>\n      <td id=\"T_1db9e_row4_col7\" class=\"data row4 col7\" >0.1569</td>\n      <td id=\"T_1db9e_row4_col8\" class=\"data row4 col8\" >0.0140</td>\n    </tr>\n    <tr>\n      <th id=\"T_1db9e_level0_row5\" class=\"row_heading level0 row5\" >lda</th>\n      <td id=\"T_1db9e_row5_col0\" class=\"data row5 col0\" >Linear Discriminant Analysis</td>\n      <td id=\"T_1db9e_row5_col1\" class=\"data row5 col1\" >0.5808</td>\n      <td id=\"T_1db9e_row5_col2\" class=\"data row5 col2\" >0.6017</td>\n      <td id=\"T_1db9e_row5_col3\" class=\"data row5 col3\" >0.4954</td>\n      <td id=\"T_1db9e_row5_col4\" class=\"data row5 col4\" >0.5710</td>\n      <td id=\"T_1db9e_row5_col5\" class=\"data row5 col5\" >0.5305</td>\n      <td id=\"T_1db9e_row5_col6\" class=\"data row5 col6\" >0.1554</td>\n      <td id=\"T_1db9e_row5_col7\" class=\"data row5 col7\" >0.1567</td>\n      <td id=\"T_1db9e_row5_col8\" class=\"data row5 col8\" >0.0240</td>\n    </tr>\n    <tr>\n      <th id=\"T_1db9e_level0_row6\" class=\"row_heading level0 row6\" >svm</th>\n      <td id=\"T_1db9e_row6_col0\" class=\"data row6 col0\" >SVM - Linear Kernel</td>\n      <td id=\"T_1db9e_row6_col1\" class=\"data row6 col1\" >0.5798</td>\n      <td id=\"T_1db9e_row6_col2\" class=\"data row6 col2\" >0.0000</td>\n      <td id=\"T_1db9e_row6_col3\" class=\"data row6 col3\" >0.5059</td>\n      <td id=\"T_1db9e_row6_col4\" class=\"data row6 col4\" >0.5686</td>\n      <td id=\"T_1db9e_row6_col5\" class=\"data row6 col5\" >0.5349</td>\n      <td id=\"T_1db9e_row6_col6\" class=\"data row6 col6\" >0.1541</td>\n      <td id=\"T_1db9e_row6_col7\" class=\"data row6 col7\" >0.1553</td>\n      <td id=\"T_1db9e_row6_col8\" class=\"data row6 col8\" >0.0320</td>\n    </tr>\n    <tr>\n      <th id=\"T_1db9e_level0_row7\" class=\"row_heading level0 row7\" >nb</th>\n      <td id=\"T_1db9e_row7_col0\" class=\"data row7 col0\" >Naive Bayes</td>\n      <td id=\"T_1db9e_row7_col1\" class=\"data row7 col1\" >0.5631</td>\n      <td id=\"T_1db9e_row7_col2\" class=\"data row7 col2\" >0.5865</td>\n      <td id=\"T_1db9e_row7_col3\" class=\"data row7 col3\" >0.5585</td>\n      <td id=\"T_1db9e_row7_col4\" class=\"data row7 col4\" >0.5441</td>\n      <td id=\"T_1db9e_row7_col5\" class=\"data row7 col5\" >0.5484</td>\n      <td id=\"T_1db9e_row7_col6\" class=\"data row7 col6\" >0.1257</td>\n      <td id=\"T_1db9e_row7_col7\" class=\"data row7 col7\" >0.1269</td>\n      <td id=\"T_1db9e_row7_col8\" class=\"data row7 col8\" >0.0150</td>\n    </tr>\n    <tr>\n      <th id=\"T_1db9e_level0_row8\" class=\"row_heading level0 row8\" >rf</th>\n      <td id=\"T_1db9e_row8_col0\" class=\"data row8 col0\" >Random Forest Classifier</td>\n      <td id=\"T_1db9e_row8_col1\" class=\"data row8 col1\" >0.5568</td>\n      <td id=\"T_1db9e_row8_col2\" class=\"data row8 col2\" >0.5618</td>\n      <td id=\"T_1db9e_row8_col3\" class=\"data row8 col3\" >0.5448</td>\n      <td id=\"T_1db9e_row8_col4\" class=\"data row8 col4\" >0.5359</td>\n      <td id=\"T_1db9e_row8_col5\" class=\"data row8 col5\" >0.5401</td>\n      <td id=\"T_1db9e_row8_col6\" class=\"data row8 col6\" >0.1125</td>\n      <td id=\"T_1db9e_row8_col7\" class=\"data row8 col7\" >0.1126</td>\n      <td id=\"T_1db9e_row8_col8\" class=\"data row8 col8\" >0.2530</td>\n    </tr>\n    <tr>\n      <th id=\"T_1db9e_level0_row9\" class=\"row_heading level0 row9\" >et</th>\n      <td id=\"T_1db9e_row9_col0\" class=\"data row9 col0\" >Extra Trees Classifier</td>\n      <td id=\"T_1db9e_row9_col1\" class=\"data row9 col1\" >0.5512</td>\n      <td id=\"T_1db9e_row9_col2\" class=\"data row9 col2\" >0.5505</td>\n      <td id=\"T_1db9e_row9_col3\" class=\"data row9 col3\" >0.5637</td>\n      <td id=\"T_1db9e_row9_col4\" class=\"data row9 col4\" >0.5288</td>\n      <td id=\"T_1db9e_row9_col5\" class=\"data row9 col5\" >0.5455</td>\n      <td id=\"T_1db9e_row9_col6\" class=\"data row9 col6\" >0.1032</td>\n      <td id=\"T_1db9e_row9_col7\" class=\"data row9 col7\" >0.1035</td>\n      <td id=\"T_1db9e_row9_col8\" class=\"data row9 col8\" >0.2700</td>\n    </tr>\n    <tr>\n      <th id=\"T_1db9e_level0_row10\" class=\"row_heading level0 row10\" >dt</th>\n      <td id=\"T_1db9e_row10_col0\" class=\"data row10 col0\" >Decision Tree Classifier</td>\n      <td id=\"T_1db9e_row10_col1\" class=\"data row10 col1\" >0.5428</td>\n      <td id=\"T_1db9e_row10_col2\" class=\"data row10 col2\" >0.5227</td>\n      <td id=\"T_1db9e_row10_col3\" class=\"data row10 col3\" >0.5856</td>\n      <td id=\"T_1db9e_row10_col4\" class=\"data row10 col4\" >0.5194</td>\n      <td id=\"T_1db9e_row10_col5\" class=\"data row10 col5\" >0.5505</td>\n      <td id=\"T_1db9e_row10_col6\" class=\"data row10 col6\" >0.0888</td>\n      <td id=\"T_1db9e_row10_col7\" class=\"data row10 col7\" >0.0895</td>\n      <td id=\"T_1db9e_row10_col8\" class=\"data row10 col8\" >0.0240</td>\n    </tr>\n    <tr>\n      <th id=\"T_1db9e_level0_row11\" class=\"row_heading level0 row11\" >knn</th>\n      <td id=\"T_1db9e_row11_col0\" class=\"data row11 col0\" >K Neighbors Classifier</td>\n      <td id=\"T_1db9e_row11_col1\" class=\"data row11 col1\" >0.5385</td>\n      <td id=\"T_1db9e_row11_col2\" class=\"data row11 col2\" >0.5494</td>\n      <td id=\"T_1db9e_row11_col3\" class=\"data row11 col3\" >0.5061</td>\n      <td id=\"T_1db9e_row11_col4\" class=\"data row11 col4\" >0.5178</td>\n      <td id=\"T_1db9e_row11_col5\" class=\"data row11 col5\" >0.5116</td>\n      <td id=\"T_1db9e_row11_col6\" class=\"data row11 col6\" >0.0744</td>\n      <td id=\"T_1db9e_row11_col7\" class=\"data row11 col7\" >0.0744</td>\n      <td id=\"T_1db9e_row11_col8\" class=\"data row11 col8\" >0.0860</td>\n    </tr>\n    <tr>\n      <th id=\"T_1db9e_level0_row12\" class=\"row_heading level0 row12\" >dummy</th>\n      <td id=\"T_1db9e_row12_col0\" class=\"data row12 col0\" >Dummy Classifier</td>\n      <td id=\"T_1db9e_row12_col1\" class=\"data row12 col1\" >0.5219</td>\n      <td id=\"T_1db9e_row12_col2\" class=\"data row12 col2\" >0.5000</td>\n      <td id=\"T_1db9e_row12_col3\" class=\"data row12 col3\" >0.0000</td>\n      <td id=\"T_1db9e_row12_col4\" class=\"data row12 col4\" >0.0000</td>\n      <td id=\"T_1db9e_row12_col5\" class=\"data row12 col5\" >0.0000</td>\n      <td id=\"T_1db9e_row12_col6\" class=\"data row12 col6\" >0.0000</td>\n      <td id=\"T_1db9e_row12_col7\" class=\"data row12 col7\" >0.0000</td>\n      <td id=\"T_1db9e_row12_col8\" class=\"data row12 col8\" >0.0130</td>\n    </tr>\n    <tr>\n      <th id=\"T_1db9e_level0_row13\" class=\"row_heading level0 row13\" >qda</th>\n      <td id=\"T_1db9e_row13_col0\" class=\"data row13 col0\" >Quadratic Discriminant Analysis</td>\n      <td id=\"T_1db9e_row13_col1\" class=\"data row13 col1\" >0.4953</td>\n      <td id=\"T_1db9e_row13_col2\" class=\"data row13 col2\" >0.5002</td>\n      <td id=\"T_1db9e_row13_col3\" class=\"data row13 col3\" >0.6127</td>\n      <td id=\"T_1db9e_row13_col4\" class=\"data row13 col4\" >0.4784</td>\n      <td id=\"T_1db9e_row13_col5\" class=\"data row13 col5\" >0.5270</td>\n      <td id=\"T_1db9e_row13_col6\" class=\"data row13 col6\" >0.0005</td>\n      <td id=\"T_1db9e_row13_col7\" class=\"data row13 col7\" >-0.0002</td>\n      <td id=\"T_1db9e_row13_col8\" class=\"data row13 col8\" >0.0170</td>\n    </tr>\n  </tbody>\n</table>\n"
     },
     "metadata": {},
     "output_type": "display_data"
    },
    {
     "name": "stdout",
     "output_type": "stream",
     "text": [
      "=> Aplicando plot  auc\n",
      "=> Aplicando plot  pr\n",
      "=> Aplicando plot  confusion_matrix\n",
      "=> Aplicando plot  threshold\n",
      "=> Aplicando plot  learning\n",
      "=> Aplicando plot  vc\n",
      "=> Aplicando plot  feature\n",
      "=> Aplicando plot  class_report\n"
     ]
    },
    {
     "data": {
      "text/plain": "<pandas.io.formats.style.Styler at 0x7fb71ca915b0>",
      "text/html": "<style type=\"text/css\">\n</style>\n<table id=\"T_1ce24\">\n  <thead>\n    <tr>\n      <th class=\"blank level0\" >&nbsp;</th>\n      <th id=\"T_1ce24_level0_col0\" class=\"col_heading level0 col0\" >Model</th>\n      <th id=\"T_1ce24_level0_col1\" class=\"col_heading level0 col1\" >Accuracy</th>\n      <th id=\"T_1ce24_level0_col2\" class=\"col_heading level0 col2\" >AUC</th>\n      <th id=\"T_1ce24_level0_col3\" class=\"col_heading level0 col3\" >Recall</th>\n      <th id=\"T_1ce24_level0_col4\" class=\"col_heading level0 col4\" >Prec.</th>\n      <th id=\"T_1ce24_level0_col5\" class=\"col_heading level0 col5\" >F1</th>\n      <th id=\"T_1ce24_level0_col6\" class=\"col_heading level0 col6\" >Kappa</th>\n      <th id=\"T_1ce24_level0_col7\" class=\"col_heading level0 col7\" >MCC</th>\n    </tr>\n  </thead>\n  <tbody>\n    <tr>\n      <th id=\"T_1ce24_level0_row0\" class=\"row_heading level0 row0\" >0</th>\n      <td id=\"T_1ce24_row0_col0\" class=\"data row0 col0\" >Ada Boost Classifier</td>\n      <td id=\"T_1ce24_row0_col1\" class=\"data row0 col1\" >0.5810</td>\n      <td id=\"T_1ce24_row0_col2\" class=\"data row0 col2\" >0.5823</td>\n      <td id=\"T_1ce24_row0_col3\" class=\"data row0 col3\" >0.3690</td>\n      <td id=\"T_1ce24_row0_col4\" class=\"data row0 col4\" >0.5936</td>\n      <td id=\"T_1ce24_row0_col5\" class=\"data row0 col5\" >0.4551</td>\n      <td id=\"T_1ce24_row0_col6\" class=\"data row0 col6\" >0.1438</td>\n      <td id=\"T_1ce24_row0_col7\" class=\"data row0 col7\" >0.1546</td>\n    </tr>\n  </tbody>\n</table>\n"
     },
     "metadata": {},
     "output_type": "display_data"
    },
    {
     "name": "stdout",
     "output_type": "stream",
     "text": [
      "Transformation Pipeline and Model Successfully Saved\n",
      "Transformation Pipeline and Model Successfully Loaded\n"
     ]
    },
    {
     "name": "stderr",
     "output_type": "stream",
     "text": [
      "Registered model 'kobe-classification' already exists. Creating a new version of this model...\n",
      "2022/10/03 16:50:23 INFO mlflow.tracking._model_registry.client: Waiting up to 300 seconds for model version to finish creation.                     Model name: kobe-classification, version 5\n",
      "Created version '5' of model 'kobe-classification'.\n"
     ]
    },
    {
     "name": "stdout",
     "output_type": "stream",
     "text": [
      "                  Model  Accuracy     AUC  Recall   Prec.      F1   Kappa  \\\n",
      "0  Ada Boost Classifier     0.581  0.5823   0.369  0.5936  0.4551  0.1438   \n",
      "\n",
      "      MCC  \n",
      "0  0.1546  \n"
     ]
    }
   ],
   "source": [
    "min_precision=0.5\n",
    "with mlflow.start_run(experiment_id=experiment_id, run_name='Treinamento'):\n",
    "    pc_setup = pycaret.classification.setup(data=df_train,\n",
    "                 test_data=df_test,\n",
    "                 target=target_col,\n",
    "                 silent=True,\n",
    "                 log_experiment=True,\n",
    "                 experiment_name=experiment_name,\n",
    "                 log_plots=True,\n",
    "                 normalize=True\n",
    "                 )\n",
    "\n",
    "    bestmodel = pycaret.classification.compare_models(n_select = 1)\n",
    "    # pycaret.classification.evaluate_model(bestmodel)\n",
    "    # pycaret.classification.interpret_model(bestmodel, plot='correlation', feature=target_col)\n",
    "\n",
    "\n",
    "    classification_plots = ['auc', 'pr', 'confusion_matrix',\n",
    "                            'threshold', 'learning', 'vc', 'feature', 'class_report']\n",
    "    for plot_type in classification_plots:\n",
    "        print('=> Aplicando plot ', plot_type)\n",
    "        try:\n",
    "            pass\n",
    "            # artifact = pycaret.classification.plot_model(bestmodel, plot=plot_type, save=True, use_train_data=False)\n",
    "            # mlflow.log_artifact(artifact)\n",
    "        except:\n",
    "            print('=> Nao possivel plotar: ', plot_type)\n",
    "            continue\n",
    "\n",
    "    pred_holdout = pycaret.classification.predict_model(bestmodel)\n",
    "    pr = metrics.precision_score(pred_holdout[target_col], pred_holdout['Label'],)\n",
    "\n",
    "    if pr > min_precision:\n",
    "\n",
    "        pycaret.classification.save_model(bestmodel, f'./{classification_model_name}')\n",
    "        model_pipe = pycaret.classification.load_model(f'./{classification_model_name}')\n",
    "\n",
    "        model_features = list(df.drop(target_col, axis=1).columns)\n",
    "        inf_signature = infer_signature(df[model_features], model_pipe.predict(df))\n",
    "        input_example = {x: df[x].values[:samples_qt] for x in model_features}\n",
    "\n",
    "        mlflow.sklearn.log_model(\n",
    "                sk_model=model_pipe,\n",
    "                artifact_path=\"sklearn-model\",\n",
    "                registered_model_name=classification_model_name,\n",
    "                signature=inf_signature,\n",
    "                input_example=input_example\n",
    "            )\n",
    "\n",
    "        client = MlflowClient()\n",
    "        if model_version == -1:\n",
    "            model_version = client.get_latest_versions(classification_model_name)[-1].version\n",
    "\n",
    "        # Registrar o modelo como staging\n",
    "        client.transition_model_version_stage(\n",
    "            name=classification_model_name,\n",
    "            version=model_version,\n",
    "            stage=\"Staging\"\n",
    "        )\n",
    "\n",
    "        pr = metrics.precision_score(pred_holdout[target_col], pred_holdout['Label'], )\n",
    "\n",
    "        mlflow.log_metric(\"new_version\", model_version)\n",
    "        mlflow.log_metric(\"precisao\", pr)\n",
    "\n",
    "        ############### WIP ####################\n",
    "        # results = {\n",
    "        #     'model': bestmodel,\n",
    "        #     'data': df,\n",
    "        #     'features': list(selected_features),\n",
    "        #     'target_col': target_col,\n",
    "        #     'threshold': 0.5\n",
    "        # }\n",
    "        # joblib.dump(results, '../Data/model_kobe.pkl', compress=9)\n",
    "        ###################################\n",
    "\n",
    "        print(pycaret.classification.pull())\n",
    "    else:\n",
    "        print(f'=> Modelo rejeitado precisão: {pr} (min: {min_precision})')\n",
    "mlflow.end_run()"
   ],
   "metadata": {
    "collapsed": false,
    "pycharm": {
     "name": "#%%\n"
    }
   }
  },
  {
   "cell_type": "markdown",
   "source": [
    "# Serviço do Modelo"
   ],
   "metadata": {
    "collapsed": false,
    "pycharm": {
     "name": "#%% md\n"
    }
   }
  },
  {
   "cell_type": "code",
   "execution_count": null,
   "outputs": [],
   "source": [
    "# executar no terminal\n",
    "# export MLFLOW_TRACKING_URI='sqlite:///mlruns.db'\n",
    "\n",
    "# mlflow models serve -m \"models:/kobe-classification/Staging\" --no-conda -p 5001\n",
    "# ou\n",
    "# mlflow models serve -m \"models:/kobe-regression/Staging\" --no-conda -p 5001"
   ],
   "metadata": {
    "collapsed": false,
    "pycharm": {
     "name": "#%%\n"
    }
   }
  },
  {
   "cell_type": "markdown",
   "source": [
    "# chamada a api"
   ],
   "metadata": {
    "collapsed": false,
    "pycharm": {
     "name": "#%% md\n"
    }
   }
  },
  {
   "cell_type": "code",
   "execution_count": null,
   "outputs": [],
   "source": [
    "def call_api(df):\n",
    "    # Configura a requisição\n",
    "    host = 'localhost'\n",
    "    port = '5001'\n",
    "    url = f'http://{host}:{port}/invocations'\n",
    "    headers = {'Content-Type': 'application/json',}\n",
    "\n",
    "    http_data = df.drop(target_col,axis=1).to_json(orient='split')\n",
    "\n",
    "    r = requests.post(url=url, headers=headers, data=http_data)\n",
    "\n",
    "    df.loc[:, 'operation_label'] = pd.read_json(r.text).values[:,0]\n",
    "\n",
    "    df.to_parquet('../Data/operalization/base_3pts.parquet')\n",
    "\n",
    "    print(df[df.operation_label == 1].sort_values('shot_distance', ascending=False).head(50))"
   ],
   "metadata": {
    "collapsed": false,
    "pycharm": {
     "name": "#%%\n"
    }
   }
  },
  {
   "cell_type": "code",
   "execution_count": null,
   "outputs": [],
   "source": [
    "call_api(df_3pts)\n"
   ],
   "metadata": {
    "collapsed": false,
    "pycharm": {
     "name": "#%%\n"
    }
   }
  }
 ],
 "metadata": {
  "kernelspec": {
   "display_name": "Python 3 (ipykernel)",
   "language": "python",
   "name": "python3"
  },
  "language_info": {
   "codemirror_mode": {
    "name": "ipython",
    "version": 3
   },
   "file_extension": ".py",
   "mimetype": "text/x-python",
   "name": "python",
   "nbconvert_exporter": "python",
   "pygments_lexer": "ipython3",
   "version": "3.8.10"
  }
 },
 "nbformat": 4,
 "nbformat_minor": 5
}